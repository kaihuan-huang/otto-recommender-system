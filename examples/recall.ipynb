{
  "cells": [
    {
      "cell_type": "code",
      "execution_count": null,
      "metadata": {
        "colab": {
          "base_uri": "https://localhost:8080/"
        },
        "id": "7V0aAjXxZRcU",
        "outputId": "2b12eed9-c9b5-4f63-8d4e-27b2c79c0be4"
      },
      "outputs": [
        {
          "output_type": "stream",
          "name": "stdout",
          "text": [
            "Output file downloaded to ./__notebook_source__.ipynb\n",
            "Output file downloaded to ./top_50_buy2buy_fortrain_v7_0.pqt\n",
            "Output file downloaded to ./top_50_carts_orders_fortrain_v7_0.pqt\n",
            "Output file downloaded to ./top_50_carts_orders_fortrain_v7_1.pqt\n",
            "Output file downloaded to ./top_50_carts_orders_fortrain_v7_2.pqt\n",
            "Output file downloaded to ./top_50_carts_orders_fortrain_v7_3.pqt\n",
            "Output file downloaded to ./top_50_clicks_fortrain_v7_0.pqt\n",
            "Output file downloaded to ./top_50_clicks_fortrain_v7_1.pqt\n",
            "Output file downloaded to ./top_50_clicks_fortrain_v7_2.pqt\n",
            "Output file downloaded to ./top_50_clicks_fortrain_v7_3.pqt\n",
            "Kernel log downloaded to ./otto-tuning-pipeline2-lb-0-577.log \n"
          ]
        }
      ],
      "source": [
        "!unzip -q '/content/drive/MyDrive/oto_recommend/data/otto-validation.zip'\n",
        "# !kaggle kernels output cdeotte/compute-validation-score-cv-565 -p './'\n",
        "!kaggle kernels output luckyzq/otto-tuning-pipeline2-lb-0-577 -p './'"
      ]
    },
    {
      "cell_type": "code",
      "execution_count": null,
      "metadata": {
        "id": "PWER3DICWjwE"
      },
      "outputs": [],
      "source": [
        "## 1.召回候选数据"
      ]
    },
    {
      "cell_type": "code",
      "execution_count": null,
      "metadata": {
        "id": "xLzf5k5fQHam",
        "colab": {
          "base_uri": "https://localhost:8080/"
        },
        "outputId": "155f430d-719b-4ca0-ee7f-ea32cbb64474"
      },
      "outputs": [
        {
          "output_type": "stream",
          "name": "stdout",
          "text": [
            "  Preparing metadata (setup.py) ... \u001b[?25l\u001b[?25hdone\n",
            "  Building wheel for pandarallel (setup.py) ... \u001b[?25l\u001b[?25hdone\n"
          ]
        }
      ],
      "source": [
        "import pandas as pd\n",
        "import glob\n",
        "import datetime,time\n",
        "from tqdm.notebook import tqdm\n",
        "from  datetime  import datetime\n",
        "!pip install -q pandarallel\n",
        "from pandarallel import pandarallel\n",
        "import numpy as np\n",
        "from tqdm import tqdm\n",
        "tqdm.pandas()"
      ]
    },
    {
      "cell_type": "code",
      "execution_count": null,
      "metadata": {
        "id": "uCUiAl1mvPzy"
      },
      "outputs": [],
      "source": [
        "## 1.粗召回：\n",
        "## (1)共现矩阵 （2）TOP XX CLICK \\ CART \\ ORDERS"
      ]
    },
    {
      "cell_type": "code",
      "execution_count": null,
      "metadata": {
        "colab": {
          "base_uri": "https://localhost:8080/",
          "height": 223
        },
        "id": "P1hrF96kvP7p",
        "outputId": "dcc75cad-2e66-4c78-910e-4e392010fe1d"
      },
      "outputs": [
        {
          "output_type": "stream",
          "name": "stdout",
          "text": [
            "Test data has shape (7683577, 4)\n"
          ]
        },
        {
          "output_type": "execute_result",
          "data": {
            "text/plain": [
              "    session      aid          ts    type\n",
              "0  11819032   326879  1661354862  clicks\n",
              "1  11819032  1264313  1661355133  clicks\n",
              "2  11819033   840259  1661354862  clicks\n",
              "3  11819033  1030009  1661365532  clicks\n",
              "4  11819034   206428  1661354862  clicks"
            ],
            "text/html": [
              "\n",
              "  <div id=\"df-22946ddf-d4e9-49d5-be02-ec6ea517cb30\">\n",
              "    <div class=\"colab-df-container\">\n",
              "      <div>\n",
              "<style scoped>\n",
              "    .dataframe tbody tr th:only-of-type {\n",
              "        vertical-align: middle;\n",
              "    }\n",
              "\n",
              "    .dataframe tbody tr th {\n",
              "        vertical-align: top;\n",
              "    }\n",
              "\n",
              "    .dataframe thead th {\n",
              "        text-align: right;\n",
              "    }\n",
              "</style>\n",
              "<table border=\"1\" class=\"dataframe\">\n",
              "  <thead>\n",
              "    <tr style=\"text-align: right;\">\n",
              "      <th></th>\n",
              "      <th>session</th>\n",
              "      <th>aid</th>\n",
              "      <th>ts</th>\n",
              "      <th>type</th>\n",
              "    </tr>\n",
              "  </thead>\n",
              "  <tbody>\n",
              "    <tr>\n",
              "      <th>0</th>\n",
              "      <td>11819032</td>\n",
              "      <td>326879</td>\n",
              "      <td>1661354862</td>\n",
              "      <td>clicks</td>\n",
              "    </tr>\n",
              "    <tr>\n",
              "      <th>1</th>\n",
              "      <td>11819032</td>\n",
              "      <td>1264313</td>\n",
              "      <td>1661355133</td>\n",
              "      <td>clicks</td>\n",
              "    </tr>\n",
              "    <tr>\n",
              "      <th>2</th>\n",
              "      <td>11819033</td>\n",
              "      <td>840259</td>\n",
              "      <td>1661354862</td>\n",
              "      <td>clicks</td>\n",
              "    </tr>\n",
              "    <tr>\n",
              "      <th>3</th>\n",
              "      <td>11819033</td>\n",
              "      <td>1030009</td>\n",
              "      <td>1661365532</td>\n",
              "      <td>clicks</td>\n",
              "    </tr>\n",
              "    <tr>\n",
              "      <th>4</th>\n",
              "      <td>11819034</td>\n",
              "      <td>206428</td>\n",
              "      <td>1661354862</td>\n",
              "      <td>clicks</td>\n",
              "    </tr>\n",
              "  </tbody>\n",
              "</table>\n",
              "</div>\n",
              "      <button class=\"colab-df-convert\" onclick=\"convertToInteractive('df-22946ddf-d4e9-49d5-be02-ec6ea517cb30')\"\n",
              "              title=\"Convert this dataframe to an interactive table.\"\n",
              "              style=\"display:none;\">\n",
              "        \n",
              "  <svg xmlns=\"http://www.w3.org/2000/svg\" height=\"24px\"viewBox=\"0 0 24 24\"\n",
              "       width=\"24px\">\n",
              "    <path d=\"M0 0h24v24H0V0z\" fill=\"none\"/>\n",
              "    <path d=\"M18.56 5.44l.94 2.06.94-2.06 2.06-.94-2.06-.94-.94-2.06-.94 2.06-2.06.94zm-11 1L8.5 8.5l.94-2.06 2.06-.94-2.06-.94L8.5 2.5l-.94 2.06-2.06.94zm10 10l.94 2.06.94-2.06 2.06-.94-2.06-.94-.94-2.06-.94 2.06-2.06.94z\"/><path d=\"M17.41 7.96l-1.37-1.37c-.4-.4-.92-.59-1.43-.59-.52 0-1.04.2-1.43.59L10.3 9.45l-7.72 7.72c-.78.78-.78 2.05 0 2.83L4 21.41c.39.39.9.59 1.41.59.51 0 1.02-.2 1.41-.59l7.78-7.78 2.81-2.81c.8-.78.8-2.07 0-2.86zM5.41 20L4 18.59l7.72-7.72 1.47 1.35L5.41 20z\"/>\n",
              "  </svg>\n",
              "      </button>\n",
              "      \n",
              "  <style>\n",
              "    .colab-df-container {\n",
              "      display:flex;\n",
              "      flex-wrap:wrap;\n",
              "      gap: 12px;\n",
              "    }\n",
              "\n",
              "    .colab-df-convert {\n",
              "      background-color: #E8F0FE;\n",
              "      border: none;\n",
              "      border-radius: 50%;\n",
              "      cursor: pointer;\n",
              "      display: none;\n",
              "      fill: #1967D2;\n",
              "      height: 32px;\n",
              "      padding: 0 0 0 0;\n",
              "      width: 32px;\n",
              "    }\n",
              "\n",
              "    .colab-df-convert:hover {\n",
              "      background-color: #E2EBFA;\n",
              "      box-shadow: 0px 1px 2px rgba(60, 64, 67, 0.3), 0px 1px 3px 1px rgba(60, 64, 67, 0.15);\n",
              "      fill: #174EA6;\n",
              "    }\n",
              "\n",
              "    [theme=dark] .colab-df-convert {\n",
              "      background-color: #3B4455;\n",
              "      fill: #D2E3FC;\n",
              "    }\n",
              "\n",
              "    [theme=dark] .colab-df-convert:hover {\n",
              "      background-color: #434B5C;\n",
              "      box-shadow: 0px 1px 3px 1px rgba(0, 0, 0, 0.15);\n",
              "      filter: drop-shadow(0px 1px 2px rgba(0, 0, 0, 0.3));\n",
              "      fill: #FFFFFF;\n",
              "    }\n",
              "  </style>\n",
              "\n",
              "      <script>\n",
              "        const buttonEl =\n",
              "          document.querySelector('#df-22946ddf-d4e9-49d5-be02-ec6ea517cb30 button.colab-df-convert');\n",
              "        buttonEl.style.display =\n",
              "          google.colab.kernel.accessAllowed ? 'block' : 'none';\n",
              "\n",
              "        async function convertToInteractive(key) {\n",
              "          const element = document.querySelector('#df-22946ddf-d4e9-49d5-be02-ec6ea517cb30');\n",
              "          const dataTable =\n",
              "            await google.colab.kernel.invokeFunction('convertToInteractive',\n",
              "                                                     [key], {});\n",
              "          if (!dataTable) return;\n",
              "\n",
              "          const docLinkHtml = 'Like what you see? Visit the ' +\n",
              "            '<a target=\"_blank\" href=https://colab.research.google.com/notebooks/data_table.ipynb>data table notebook</a>'\n",
              "            + ' to learn more about interactive tables.';\n",
              "          element.innerHTML = '';\n",
              "          dataTable['output_type'] = 'display_data';\n",
              "          await google.colab.output.renderOutput(dataTable, element);\n",
              "          const docLink = document.createElement('div');\n",
              "          docLink.innerHTML = docLinkHtml;\n",
              "          element.appendChild(docLink);\n",
              "        }\n",
              "      </script>\n",
              "    </div>\n",
              "  </div>\n",
              "  "
            ]
          },
          "metadata": {},
          "execution_count": 6
        }
      ],
      "source": [
        "def load_test():    \n",
        "    dfs = []\n",
        "    for e, chunk_file in enumerate(glob.glob('/content/test_parquet/*')):\n",
        "        chunk = pd.read_parquet(chunk_file)\n",
        "        chunk.ts = (chunk.ts/1000).astype('int32')\n",
        "        # chunk['type'] = chunk['type'].map(type_labels).astype('int8')\n",
        "        dfs.append(chunk)\n",
        "    return pd.concat(dfs).reset_index(drop=True) #.astype({\"ts\": \"datetime64[ms]\"})\n",
        "\n",
        "test_df = load_test()\n",
        "# test_df = pd.read_parquet('/content/test.parquet')\n",
        "print('Test data has shape',test_df.shape)\n",
        "test_df.head()"
      ]
    },
    {
      "cell_type": "code",
      "execution_count": null,
      "metadata": {
        "colab": {
          "base_uri": "https://localhost:8080/"
        },
        "id": "xAxe9VUfx0Ry",
        "outputId": "8aeea2a9-ab4e-4df9-80da-257c49e18870"
      },
      "outputs": [
        {
          "output_type": "stream",
          "name": "stdout",
          "text": [
            "Here are size of our 3 co-visitation matrices:\n",
            "1788152 1033926 1788152\n",
            "CPU times: user 1min 51s, sys: 11.3 s, total: 2min 2s\n",
            "Wall time: 1min 56s\n"
          ]
        }
      ],
      "source": [
        "%%time\n",
        "VER = 7\n",
        "DISK_PIECES = 4\n",
        "def pqt_to_dict(df):\n",
        "    return df.groupby('aid_x').aid_y.apply(list).to_dict()\n",
        "\n",
        "# LOAD THREE CO-VISITATION MATRICES\n",
        "top_20_clicks = pqt_to_dict( pd.read_parquet(f'top_50_clicks_fortrain_v{VER}_0.pqt') )\n",
        "\n",
        "for k in range(1,DISK_PIECES): \n",
        "    top_20_clicks.update( pqt_to_dict( pd.read_parquet(f'top_50_clicks_fortrain_v{VER}_{k}.pqt') ) )\n",
        "\n",
        "\n",
        "top_20_buys = pqt_to_dict( pd.read_parquet(f'top_50_carts_orders_fortrain_v{VER}_0.pqt') )\n",
        "\n",
        "for k in range(1,DISK_PIECES): \n",
        "    top_20_buys.update( pqt_to_dict( pd.read_parquet(f'top_50_carts_orders_fortrain_v{VER}_{k}.pqt') ) )\n",
        "\n",
        "top_20_buy2buy = pqt_to_dict( pd.read_parquet(f'top_50_buy2buy_fortrain_v{VER}_0.pqt') )\n",
        "\n",
        "# TOP CLICKS AND ORDERS IN TEST\n",
        "#top_clicks = test_df.loc[test_df['type']=='clicks','aid'].value_counts().index.values[:20]\n",
        "#top_orders = test_df.loc[test_df['type']=='orders','aid'].value_counts().index.values[:20]\n",
        "\n",
        "print('Here are size of our 3 co-visitation matrices:')\n",
        "print( len( top_20_clicks ), len( top_20_buy2buy ), len( top_20_buys ) )\n",
        "\n",
        "top_clicks = test_df.loc[test_df['type']== 'clicks','aid'].value_counts().index.values[:40] \n",
        "top_carts = test_df.loc[test_df['type']== 'carts','aid'].value_counts().index.values[:40]\n",
        "top_orders = test_df.loc[test_df['type']== 'orders','aid'].value_counts().index.values[:40]"
      ]
    },
    {
      "cell_type": "code",
      "execution_count": null,
      "metadata": {
        "id": "lISgf_wUPKjB"
      },
      "outputs": [],
      "source": [
        "def get_recall_aid(x,object = 'click'):\n",
        "  result = []\n",
        "  if object == 'clicks':\n",
        "    recall_dict = top_20_clicks\n",
        "    top_index = top_clicks\n",
        "  elif object == 'carts':\n",
        "    recall_dict = top_20_buys\n",
        "    top_index = top_carts\n",
        "  elif object == 'orders':\n",
        "    recall_dict = top_20_buy2buy\n",
        "    top_index = top_orders\n",
        "\n",
        "  keys = recall_dict.keys()\n",
        "  for i in x:\n",
        "    if i in keys:\n",
        "      result += recall_dict[i]\n",
        "  result = list(set(result))\n",
        "  result += list(top_index)\n",
        "  result += x\n",
        "  return list(set(result))\n",
        "\n",
        "\n",
        "\n",
        "type_weight_multipliers = {'clicks': 1, 'carts': 5, 'orders': 4}\n",
        "def suggest_clicks(df,n):\n",
        "    # USER HISTORY AIDS AND TYPES\n",
        "    aids=df.aid.tolist()\n",
        "    types = df.type.tolist()\n",
        "    unique_aids = list(dict.fromkeys(aids[::-1] ))\n",
        "    # RERANK CANDIDATES USING WEIGHTS\n",
        "    if len(unique_aids)>=n:\n",
        "        weights=np.logspace(0.1,1,len(aids),base=2, endpoint=True)-1\n",
        "        aids_temp = Counter() \n",
        "        # RERANK BASED ON REPEAT ITEMS AND TYPE OF ITEMS\n",
        "        for aid,w,t in zip(aids,weights,types): \n",
        "            aids_temp[aid] += w * type_weight_multipliers[t]\n",
        "        sorted_aids = [k for k,v in aids_temp.most_common(n)]\n",
        "        return sorted_aids\n",
        "    # USE \"CLICKS\" CO-VISITATION MATRIX\n",
        "    aids2 = list(itertools.chain(*[top_20_clicks[aid] for aid in unique_aids if aid in top_20_clicks]))\n",
        "    # RERANK CANDIDATES\n",
        "    top_aids2 = [aid2 for aid2, cnt in Counter(aids2).most_common(n) if aid2 not in unique_aids]    \n",
        "    result = unique_aids + top_aids2[:n - len(unique_aids)]\n",
        "    return result + list(top_clicks)[:n-len(result)]\n",
        "\n",
        "\n",
        "\n",
        "def suggest_carts(df,n):\n",
        "    # User history aids and types\n",
        "    aids = df.aid.tolist()\n",
        "    types = df.type.tolist()\n",
        "    \n",
        "    # UNIQUE AIDS AND UNIQUE BUYS\n",
        "    unique_aids = list(dict.fromkeys(aids[::-1] ))\n",
        "    df = df.loc[(df['type'] == 'clicks')|(df['type'] == 'carts')]\n",
        "    unique_buys = list(dict.fromkeys(df.aid.tolist()[::-1]))\n",
        "    \n",
        "    # Rerank candidates using weights\n",
        "    if len(unique_aids) >= n:\n",
        "        weights=np.logspace(0.5,1,len(aids),base=2, endpoint=True)-1\n",
        "        aids_temp = Counter() \n",
        "        \n",
        "        # Rerank based on repeat items and types of items\n",
        "        for aid,w,t in zip(aids,weights,types): \n",
        "            aids_temp[aid] += w * type_weight_multipliers[t]\n",
        "        \n",
        "        # Rerank candidates using\"top_20_carts\" co-visitation matrix\n",
        "        aids2 = list(itertools.chain(*[top_20_buys[aid] for aid in unique_buys if aid in top_20_buys]))\n",
        "        for aid in aids2: aids_temp[aid] += 0.1\n",
        "        sorted_aids = [k for k,v in aids_temp.most_common(n)]\n",
        "        return sorted_aids\n",
        "    \n",
        "    # Use \"cart order\" and \"clicks\" co-visitation matrices\n",
        "    aids1 = list(itertools.chain(*[top_20_clicks[aid] for aid in unique_aids if aid in top_20_clicks]))\n",
        "    aids2 = list(itertools.chain(*[top_20_buys[aid] for aid in unique_aids if aid in top_20_buys]))\n",
        "    \n",
        "    # RERANK CANDIDATES\n",
        "    top_aids2 = [aid2 for aid2, cnt in Counter(aids1+aids2).most_common(n) if aid2 not in unique_aids] \n",
        "    result = unique_aids + top_aids2[:n - len(unique_aids)]\n",
        "    \n",
        "    # USE TOP20 TEST ORDERS\n",
        "    return result + list(top_carts)[:n-len(result)]\n",
        "\n",
        "\n",
        "\n",
        "def suggest_buys(df,n):\n",
        "    # USER HISTORY AIDS AND TYPES\n",
        "    aids=df.aid.tolist()\n",
        "    types = df.type.tolist()\n",
        "    # UNIQUE AIDS AND UNIQUE BUYS\n",
        "    unique_aids = list(dict.fromkeys(aids[::-1] ))\n",
        "    df = df.loc[(df['type']=='carts')|(df['type']=='orders')]\n",
        "    unique_buys = list(dict.fromkeys( df.aid.tolist()[::-1] ))\n",
        "    # RERANK CANDIDATES USING WEIGHTS\n",
        "    if len(unique_aids)>=n:\n",
        "        weights=np.logspace(0.5,1,len(aids),base=2, endpoint=True)-1\n",
        "        aids_temp = Counter() \n",
        "        # RERANK BASED ON REPEAT ITEMS AND TYPE OF ITEMS\n",
        "        for aid,w,t in zip(aids,weights,types): \n",
        "            aids_temp[aid] += w * type_weight_multipliers[t]\n",
        "        # RERANK CANDIDATES USING \"BUY2BUY\" CO-VISITATION MATRIX\n",
        "        aids3 = list(itertools.chain(*[top_20_buy2buy[aid] for aid in unique_buys if aid in top_20_buy2buy]))\n",
        "        for aid in aids3: aids_temp[aid] += 0.1\n",
        "        sorted_aids = [k for k,v in aids_temp.most_common(n)]\n",
        "        return sorted_aids\n",
        "    # USE \"CART ORDER\" CO-VISITATION MATRIX\n",
        "    aids2 = list(itertools.chain(*[top_20_buys[aid] for aid in unique_aids if aid in top_20_buys]))\n",
        "    # USE \"BUY2BUY\" CO-VISITATION MATRIX\n",
        "    aids3 = list(itertools.chain(*[top_20_buy2buy[aid] for aid in unique_buys if aid in top_20_buy2buy]))\n",
        "    # RERANK CANDIDATES\n",
        "    top_aids2 = [aid2 for aid2, cnt in Counter(aids2+aids3).most_common(n) if aid2 not in unique_aids] \n",
        "    result = unique_aids + top_aids2[:n - len(unique_aids)]\n",
        "    # USE TOP20 TEST ORDERS\n",
        "    return result + list(top_orders)[:n-len(result)]"
      ]
    },
    {
      "cell_type": "code",
      "source": [
        "import itertools\n",
        "from collections import Counter\n",
        "tqdm.pandas()\n",
        "pandarallel.initialize(nb_workers=4,progress_bar=True)"
      ],
      "metadata": {
        "colab": {
          "base_uri": "https://localhost:8080/"
        },
        "id": "lqtyFaYhk1uw",
        "outputId": "29638b72-5db1-46da-d476-5e1a57bbdb6a"
      },
      "execution_count": null,
      "outputs": [
        {
          "output_type": "stream",
          "name": "stdout",
          "text": [
            "INFO: Pandarallel will run on 4 workers.\n",
            "INFO: Pandarallel will use Memory file system to transfer data between the main process and workers.\n"
          ]
        }
      ]
    },
    {
      "cell_type": "code",
      "source": [
        "pred_df_clicks = test_df.sort_values([\"session\", \"ts\"]).groupby([\"session\"]).progress_apply(\n",
        "    lambda x: suggest_clicks(x,40)\n",
        ")\n",
        "\n",
        "pred_df_carts = test_df.sort_values([\"session\", \"ts\"]).groupby([\"session\"]).progress_apply(\n",
        "    lambda x: suggest_carts(x,40)\n",
        ") \n",
        "\n",
        "pred_df_buys = test_df.sort_values([\"session\", \"ts\"]).groupby([\"session\"]).progress_apply(\n",
        "    lambda x: suggest_buys(x,40)\n",
        ")\n",
        "\n",
        "pred_df_clicks.reset_index().rename(columns={0:'recall_aids'}).to_parquet('/content/drive/MyDrive/oto_recommend/process_data/top_40_suggest_clicks_v2.parquet')\n",
        "pred_df_carts.reset_index().rename(columns={0:'recall_aids'}).to_parquet('/content/drive/MyDrive/oto_recommend/process_data/top_40_suggest_carts_v2.parquet')\n",
        "pred_df_buys.reset_index().rename(columns={0:'recall_aids'}).to_parquet('/content/drive/MyDrive/oto_recommend/process_data/top_40_suggest_orders_v2.parquet')\n",
        "\n",
        "pred_df_clicks = pd.read_parquet('/content/drive/MyDrive/oto_recommend/process_data/top_40_suggest_clicks_v2.parquet')\n",
        "pred_df_carts = pd.read_parquet('/content/drive/MyDrive/oto_recommend/process_data/top_40_suggest_carts_v2.parquet')\n",
        "pred_df_orders = pd.read_parquet('/content/drive/MyDrive/oto_recommend/process_data/top_40_suggest_orders_v2.parquet')"
      ],
      "metadata": {
        "id": "_NzesdcZgSAf"
      },
      "execution_count": null,
      "outputs": []
    },
    {
      "cell_type": "code",
      "source": [
        "test_df_1 = test_df.groupby('session')['aid'].progress_apply(lambda x:list(set(x.values))).reset_index()"
      ],
      "metadata": {
        "colab": {
          "base_uri": "https://localhost:8080/"
        },
        "id": "h8QSa67j7TDU",
        "outputId": "7c3688f6-265d-4f9c-ea19-602392dc9fd2"
      },
      "execution_count": null,
      "outputs": [
        {
          "output_type": "stream",
          "name": "stderr",
          "text": [
            "100%|██████████| 1801251/1801251 [00:31<00:00, 56357.55it/s]\n"
          ]
        }
      ]
    },
    {
      "cell_type": "code",
      "source": [
        "import gc\n",
        "gc.collect()"
      ],
      "metadata": {
        "colab": {
          "base_uri": "https://localhost:8080/"
        },
        "id": "a-kzneqE88yp",
        "outputId": "5e37c475-508d-43c8-c1f9-8e3e066160a1"
      },
      "execution_count": null,
      "outputs": [
        {
          "output_type": "execute_result",
          "data": {
            "text/plain": [
              "0"
            ]
          },
          "metadata": {},
          "execution_count": 12
        }
      ]
    },
    {
      "cell_type": "code",
      "execution_count": null,
      "metadata": {
        "id": "m25ymAsLWrSv"
      },
      "outputs": [],
      "source": [
        "def test_recall():\n",
        "  result = {}\n",
        "  score = 0\n",
        "  weights = {'clicks': 0.10, 'carts': 0.30, 'orders': 0.60}\n",
        "  object_list = ['clicks','carts','orders']\n",
        "  for t in object_list:\n",
        "    test_label = pd.read_parquet('/content/test_labels.parquet')\n",
        "    test_label_tmp = test_label[test_label['type'] == t]\n",
        "    test_tmp = test_df_1.merge(test_label_tmp[['session','ground_truth']],on='session')\n",
        "    pred_tmp =  pd.read_parquet(f'/content/drive/MyDrive/oto_recommend/process_data/top_40_suggest_{t}_v2.parquet')\n",
        "    test_tmp = test_tmp.merge(pred_tmp.rename(columns = {'recall_aids':'recall_aid'}),on='session')\n",
        "    # test_tmp['recall_aid'] = test_tmp['aid'].progress_apply(lambda x : get_recall_aid(x,object=t))\n",
        "    test_tmp['hits_aid'] = test_tmp.progress_apply(lambda df: list(set(df.ground_truth).intersection(df.recall_aid)), axis=1)\n",
        "    test_tmp['hits'] = test_tmp['hits_aid'].apply(lambda x : len(x))\n",
        "    test_tmp['gt_count'] = test_tmp.ground_truth.str.len().clip(0,20)\n",
        "    recall = test_tmp['hits'].sum() / test_tmp['gt_count'].sum()\n",
        "    score += weights[t]*recall\n",
        "    print(f'{t} recall =',recall)\n",
        "    result[t] = test_tmp\n",
        "  print('=============')\n",
        "  print('Overall Recall =',score)\n",
        "  print('=============')\n",
        "  return result"
      ]
    },
    {
      "cell_type": "code",
      "source": [
        "result = test_recall()"
      ],
      "metadata": {
        "colab": {
          "base_uri": "https://localhost:8080/"
        },
        "id": "-dPwjbkWbyd8",
        "outputId": "9de687cc-9131-49ba-e4f8-4c9b364d410d"
      },
      "execution_count": null,
      "outputs": [
        {
          "output_type": "stream",
          "name": "stderr",
          "text": [
            "100%|██████████| 1755534/1755534 [00:52<00:00, 33715.80it/s]\n"
          ]
        },
        {
          "output_type": "stream",
          "name": "stdout",
          "text": [
            "clicks recall = 0.5726331703060151\n"
          ]
        },
        {
          "output_type": "stream",
          "name": "stderr",
          "text": [
            "100%|██████████| 306341/306341 [00:08<00:00, 34237.22it/s]\n"
          ]
        },
        {
          "output_type": "stream",
          "name": "stdout",
          "text": [
            "carts recall = 0.44547271207080186\n"
          ]
        },
        {
          "output_type": "stream",
          "name": "stderr",
          "text": [
            "100%|██████████| 150817/150817 [00:04<00:00, 33231.08it/s]\n"
          ]
        },
        {
          "output_type": "stream",
          "name": "stdout",
          "text": [
            "orders recall = 0.6730289847208613\n",
            "=============\n",
            "Overall Recall = 0.5947225214843588\n",
            "=============\n"
          ]
        }
      ]
    },
    {
      "cell_type": "code",
      "execution_count": null,
      "metadata": {
        "id": "BOre454Bktfm",
        "colab": {
          "base_uri": "https://localhost:8080/"
        },
        "outputId": "abab13b5-a286-4552-8d3b-d0a7612ecff9"
      },
      "outputs": [
        {
          "output_type": "execute_result",
          "data": {
            "text/plain": [
              "0"
            ]
          },
          "metadata": {},
          "execution_count": 20
        }
      ],
      "source": [
        "import gc\n",
        "gc.collect()"
      ]
    },
    {
      "cell_type": "code",
      "execution_count": null,
      "metadata": {
        "id": "TYMrEgY3mfQU"
      },
      "outputs": [],
      "source": [
        "## 构建训练集\n",
        "## 1.session, recall_aid,label是否正确,aid点击的aid"
      ]
    },
    {
      "cell_type": "code",
      "execution_count": null,
      "metadata": {
        "id": "fJK46uwkmXuR",
        "colab": {
          "base_uri": "https://localhost:8080/"
        },
        "outputId": "554aec20-4a66-421d-cc83-81a4a56b4a2b"
      },
      "outputs": [
        {
          "output_type": "stream",
          "name": "stdout",
          "text": [
            "start clicks\n",
            "start carts\n",
            "start orders\n"
          ]
        }
      ],
      "source": [
        "## 1. 全部的\n",
        "result_1 = {}\n",
        "for t in ['clicks','carts','orders']:\n",
        "  print('start',t)\n",
        "  df_tmp = result[t]\n",
        "  df_tmp_all = pd.DataFrame(np.dstack((np.repeat(df_tmp.session.values,list(map(len,df_tmp['recall_aid'].values))),np.concatenate(df_tmp['recall_aid'].values)))[0],columns=['session','recall_aids'])\n",
        "  df_tmp_hist = pd.DataFrame(np.dstack((np.repeat(df_tmp.session.values,list(map(len,df_tmp['hits_aid'].values))),np.concatenate(df_tmp['hits_aid'].values)))[0],columns=['session','hits_aids'])\n",
        "  df_tmp= df_tmp_all.merge(df_tmp_hist,left_on=['session','recall_aids'],right_on=['session','hits_aids'],how= 'left')\n",
        "  del df_tmp_all,df_tmp_hist\n",
        "  gc.collect()\n",
        "  df_tmp['label'] = 1\n",
        "  df_tmp.loc[df_tmp['hits_aids'].isna(),'label'] = 0\n",
        "  result_1[t] = df_tmp\n",
        "  gc.collect()"
      ]
    },
    {
      "cell_type": "code",
      "source": [
        "result_1['clicks'].to_parquet('/content/drive/MyDrive/oto_recommend/process_data/train_clicks_v2.parquet',index=False)\n",
        "result_1['carts'].to_parquet('/content/drive/MyDrive/oto_recommend/process_data/train_carts_v2.parquet',index=False)\n",
        "result_1['orders'].to_parquet('/content/drive/MyDrive/oto_recommend/process_data/train_orders_v2.parquet',index=False)"
      ],
      "metadata": {
        "id": "woG-NKf8Agx_"
      },
      "execution_count": null,
      "outputs": []
    },
    {
      "cell_type": "code",
      "execution_count": null,
      "metadata": {
        "id": "cBRFRFDnWtPK"
      },
      "outputs": [],
      "source": []
    },
    {
      "cell_type": "code",
      "execution_count": null,
      "metadata": {
        "id": "6EstyO0MWtRr"
      },
      "outputs": [],
      "source": []
    },
    {
      "cell_type": "code",
      "execution_count": null,
      "metadata": {
        "id": "qKowHwNSWtUP"
      },
      "outputs": [],
      "source": []
    },
    {
      "cell_type": "code",
      "execution_count": null,
      "metadata": {
        "id": "Q67wfPRlWbXB"
      },
      "outputs": [],
      "source": []
    },
    {
      "cell_type": "code",
      "execution_count": null,
      "metadata": {
        "id": "uVagIhooFOvP"
      },
      "outputs": [],
      "source": []
    }
  ],
  "metadata": {
    "colab": {
      "machine_shape": "hm",
      "provenance": []
    },
    "gpuClass": "standard",
    "kernelspec": {
      "display_name": "Python 3",
      "name": "python3"
    },
    "language_info": {
      "name": "python"
    }
  },
  "nbformat": 4,
  "nbformat_minor": 0
}