{
  "cells": [
    {
      "cell_type": "code",
      "execution_count": null,
      "metadata": {
        "id": "wjoQfmSv8hpn"
      },
      "outputs": [],
      "source": [
        "!unzip -q '/content/drive/MyDrive/oto_recommend/data/otto-validation.zip'"
      ]
    },
    {
      "cell_type": "code",
      "source": [
        "!kaggle datasets download -d alexlods/ottoprecalculatedfeatureparquet\n",
        "!unzip -q /content/ottoprecalculatedfeatureparquet.zip"
      ],
      "metadata": {
        "colab": {
          "base_uri": "https://localhost:8080/"
        },
        "id": "6vs0ydC6mP_v",
        "outputId": "b1b23926-33a0-418a-d022-0c01e52fcca7"
      },
      "execution_count": null,
      "outputs": [
        {
          "output_type": "stream",
          "name": "stdout",
          "text": [
            "Downloading ottoprecalculatedfeatureparquet.zip to /content\n",
            " 99% 469M/475M [00:04<00:00, 123MB/s]\n",
            "100% 475M/475M [00:04<00:00, 118MB/s]\n"
          ]
        }
      ]
    },
    {
      "cell_type": "code",
      "execution_count": null,
      "metadata": {
        "id": "zg8R4EkyqYdf"
      },
      "outputs": [],
      "source": [
        "import pandas as pd\n",
        "import glob\n",
        "import datetime,time\n",
        "from tqdm.notebook import tqdm\n",
        "from  datetime  import datetime\n",
        "!pip install -q pandarallel\n",
        "from pandarallel import pandarallel\n",
        "import numpy as np\n",
        "from tqdm import tqdm\n",
        "tqdm.pandas()\n",
        "import gc\n",
        "import xgboost as xgb\n",
        "from xgboost import XGBClassifier\n",
        "from sklearn.model_selection import StratifiedKFold,GroupKFold\n",
        "import lightgbm as lgb\n",
        "import joblib"
      ]
    },
    {
      "cell_type": "code",
      "source": [
        "embedding_weight = np.load('/content/word2vec.model.wv.vectors.npy')\n",
        "aid_embedding = pd.DataFrame(embedding_weight, columns = ['featuress8_Embedding_' + str(x) for x in range(32)]).reset_index().rename(columns = {'index':'aid'})"
      ],
      "metadata": {
        "id": "kIWVa-dJmFPN"
      },
      "execution_count": null,
      "outputs": []
    },
    {
      "cell_type": "code",
      "execution_count": null,
      "metadata": {
        "id": "kn3tl2-Gq4XY"
      },
      "outputs": [],
      "source": [
        "df_train_dict = {}\n",
        "objects = ['clicks','carts','orders']\n",
        "for t in objects:\n",
        "  df_train_dict[t] = pd.read_parquet(f'/content/drive/MyDrive/oto_recommend/process_data/train_data_{t}_v2.parquet')"
      ]
    },
    {
      "cell_type": "code",
      "source": [
        "last_click_embedding =  pd.DataFrame(embedding_weight, columns = ['featuress9_last_click_Embedding_' + str(x) for x in range(32)]).reset_index().rename(columns = {'index':'aid'})\n",
        "last_carts_embedding =  pd.DataFrame(embedding_weight, columns = ['featuress9_last_carts_Embedding_' + str(x) for x in range(32)]).reset_index().rename(columns = {'index':'aid'})\n",
        "last_orders_embedding =  pd.DataFrame(embedding_weight, columns = ['featuress9_last_orders_Embedding_' + str(x) for x in range(32)]).reset_index().rename(columns = {'index':'aid'})\n",
        "for t in objects:\n",
        "  df_train_dict[t] = df_train_dict[t].merge(last_click_embedding,how='left',left_on = ['last_clicks_3_aid'] , right_on=['aid'])\n",
        "  # df_train_dict[t] = df_train_dict[t].merge(last_carts_embedding,how='left',left_on = ['last_carts_1_aid'] , right_on=['aid'])\n",
        "  # df_train_dict[t] = df_train_dict[t].merge(last_orders_embedding,how='left',left_on = ['last_orders_1_aid'] , right_on=['aid'])"
      ],
      "metadata": {
        "id": "13egJ5n4l_oK"
      },
      "execution_count": null,
      "outputs": []
    },
    {
      "cell_type": "code",
      "source": [
        "features =  [i for i in df_train_dict['clicks'].columns if 'features' in i and 'featuress9' not in i and 'featuress8' not in i] + ['all_clicks_count','all_carts_count','all_orders_count'] "
      ],
      "metadata": {
        "id": "voLDuFz1oOhp"
      },
      "execution_count": null,
      "outputs": []
    },
    {
      "cell_type": "code",
      "source": [
        "# for t in objects:\n",
        "#   tmp = df_train_dict[t]\n",
        "#   for p in features:\n",
        "#     tmp[p] = (tmp[p] -  tmp[p].min()) / (tmp[p].max() - tmp[p].min())\n",
        "#   df_train_dict[t] = tmp"
      ],
      "metadata": {
        "id": "7_s1dVC4oTdG"
      },
      "execution_count": null,
      "outputs": []
    },
    {
      "cell_type": "code",
      "execution_count": null,
      "metadata": {
        "id": "nrxrsQcBrGTX"
      },
      "outputs": [],
      "source": [
        "def train_model(t):\n",
        "  result = []\n",
        "  df_train = df_train_dict[t]\n",
        "  features =  [i for i in df_train.columns if 'features' in i] + ['all_clicks_count','all_carts_count','all_orders_count'] \n",
        "  kf = GroupKFold(n_splits=5)\n",
        "  models = []\n",
        "  for fold , (train_index,test_index) in enumerate(kf.split(df_train[features],df_train['label'],groups=df_train['session'])):\n",
        "      # xgb = XGBClassifier(n_estimators = 10000,tree_method='gpu_hist',objective='rank:pairwise',learning_rate=0.6)\n",
        "      df_train_x , df_train_y = df_train.loc[train_index,features],df_train.loc[train_index,'label']\n",
        "      df_test_x , df_test_y = df_train.loc[test_index,features],df_train.loc[test_index,'label'].values\n",
        "      dtrain = xgb.DMatrix(df_train_x,df_train_y) \n",
        "      dvalid = xgb.DMatrix(df_test_x, df_test_y) \n",
        "\n",
        "      xgb_parms = {'objective':'rank:pairwise', 'tree_method':'gpu_hist','eval_metric':'auc'}\n",
        "      model = xgb.train(xgb_parms, dtrain=dtrain,evals=[(dtrain,'train'),(dvalid,'valid')],num_boost_round=10000,verbose_eval=100,early_stopping_rounds=30)\n",
        "      # xgb.fit(df_train_x,df_train_y,eval_set = [(df_train_x,df_train_y),(df_test_x,df_test_y)],\n",
        "      #       eval_metric = [\"auc\"],\n",
        "      #       early_stopping_rounds = 10,\n",
        "      #       verbose = 100)\n",
        "      joblib.dump(model,f'/content/drive/MyDrive/oto_recommend/model/xgb_model_v2_{t}_{fold}_rank_pairwise.pkl')\n",
        "      for _ in range(5):\n",
        "        gc.collect()"
      ]
    },
    {
      "cell_type": "code",
      "execution_count": null,
      "metadata": {
        "id": "krg2pBiGflCG"
      },
      "outputs": [],
      "source": [
        "import xgboost as xgb"
      ]
    },
    {
      "cell_type": "code",
      "source": [
        "models_carts = train_model('carts')"
      ],
      "metadata": {
        "colab": {
          "base_uri": "https://localhost:8080/"
        },
        "id": "H_Hal0-QniB6",
        "outputId": "6fe418f8-9041-422a-dc83-7046c6a4d4fd"
      },
      "execution_count": null,
      "outputs": [
        {
          "output_type": "stream",
          "name": "stdout",
          "text": [
            "[0]\ttrain-auc:0.763632\tvalid-auc:0.762254\n",
            "Multiple eval metrics have been passed: 'valid-auc' will be used for early stopping.\n",
            "\n",
            "Will train until valid-auc hasn't improved in 30 rounds.\n",
            "[100]\ttrain-auc:0.839725\tvalid-auc:0.826272\n",
            "[200]\ttrain-auc:0.858034\tvalid-auc:0.833029\n",
            "[300]\ttrain-auc:0.871268\tvalid-auc:0.834368\n",
            "Stopping. Best iteration:\n",
            "[353]\ttrain-auc:0.877309\tvalid-auc:0.834609\n",
            "\n",
            "[0]\ttrain-auc:0.764196\tvalid-auc:0.762092\n",
            "Multiple eval metrics have been passed: 'valid-auc' will be used for early stopping.\n",
            "\n",
            "Will train until valid-auc hasn't improved in 30 rounds.\n",
            "[100]\ttrain-auc:0.841023\tvalid-auc:0.826594\n",
            "[200]\ttrain-auc:0.858886\tvalid-auc:0.832613\n",
            "[300]\ttrain-auc:0.87224\tvalid-auc:0.834065\n",
            "Stopping. Best iteration:\n",
            "[319]\ttrain-auc:0.874454\tvalid-auc:0.834213\n",
            "\n",
            "[0]\ttrain-auc:0.764936\tvalid-auc:0.764068\n",
            "Multiple eval metrics have been passed: 'valid-auc' will be used for early stopping.\n",
            "\n",
            "Will train until valid-auc hasn't improved in 30 rounds.\n",
            "[100]\ttrain-auc:0.839878\tvalid-auc:0.82545\n",
            "[200]\ttrain-auc:0.857994\tvalid-auc:0.831772\n",
            "[300]\ttrain-auc:0.871216\tvalid-auc:0.833251\n",
            "[400]\ttrain-auc:0.88217\tvalid-auc:0.833339\n",
            "Stopping. Best iteration:\n",
            "[380]\ttrain-auc:0.880144\tvalid-auc:0.83342\n",
            "\n",
            "[0]\ttrain-auc:0.763726\tvalid-auc:0.760445\n",
            "Multiple eval metrics have been passed: 'valid-auc' will be used for early stopping.\n",
            "\n",
            "Will train until valid-auc hasn't improved in 30 rounds.\n",
            "[100]\ttrain-auc:0.839773\tvalid-auc:0.825423\n",
            "[200]\ttrain-auc:0.857469\tvalid-auc:0.831942\n",
            "[300]\ttrain-auc:0.870514\tvalid-auc:0.833286\n",
            "Stopping. Best iteration:\n",
            "[278]\ttrain-auc:0.867992\tvalid-auc:0.83339\n",
            "\n",
            "[0]\ttrain-auc:0.764816\tvalid-auc:0.760751\n",
            "Multiple eval metrics have been passed: 'valid-auc' will be used for early stopping.\n",
            "\n",
            "Will train until valid-auc hasn't improved in 30 rounds.\n",
            "[100]\ttrain-auc:0.838986\tvalid-auc:0.825851\n",
            "[200]\ttrain-auc:0.857738\tvalid-auc:0.833193\n",
            "[300]\ttrain-auc:0.870745\tvalid-auc:0.834165\n",
            "Stopping. Best iteration:\n",
            "[306]\ttrain-auc:0.871471\tvalid-auc:0.83421\n",
            "\n"
          ]
        }
      ]
    },
    {
      "cell_type": "code",
      "source": [
        "models_orders = train_model('orders')"
      ],
      "metadata": {
        "colab": {
          "base_uri": "https://localhost:8080/"
        },
        "id": "JTeFyxAZsAdd",
        "outputId": "e458cae6-8e06-40d8-a131-9b0c80377742"
      },
      "execution_count": null,
      "outputs": [
        {
          "output_type": "stream",
          "name": "stdout",
          "text": [
            "[0]\ttrain-auc:0.782288\tvalid-auc:0.782337\n",
            "Multiple eval metrics have been passed: 'valid-auc' will be used for early stopping.\n",
            "\n",
            "Will train until valid-auc hasn't improved in 30 rounds.\n",
            "[100]\ttrain-auc:0.86972\tvalid-auc:0.858834\n",
            "[200]\ttrain-auc:0.886997\tvalid-auc:0.866476\n",
            "Stopping. Best iteration:\n",
            "[240]\ttrain-auc:0.891581\tvalid-auc:0.867045\n",
            "\n",
            "[0]\ttrain-auc:0.781197\tvalid-auc:0.781028\n",
            "Multiple eval metrics have been passed: 'valid-auc' will be used for early stopping.\n",
            "\n",
            "Will train until valid-auc hasn't improved in 30 rounds.\n",
            "[100]\ttrain-auc:0.86929\tvalid-auc:0.858432\n",
            "[200]\ttrain-auc:0.88698\tvalid-auc:0.866926\n",
            "Stopping. Best iteration:\n",
            "[264]\ttrain-auc:0.894247\tvalid-auc:0.867813\n",
            "\n",
            "[0]\ttrain-auc:0.782576\tvalid-auc:0.779868\n",
            "Multiple eval metrics have been passed: 'valid-auc' will be used for early stopping.\n",
            "\n",
            "Will train until valid-auc hasn't improved in 30 rounds.\n",
            "[100]\ttrain-auc:0.868844\tvalid-auc:0.856892\n",
            "[200]\ttrain-auc:0.886152\tvalid-auc:0.864305\n",
            "[300]\ttrain-auc:0.897682\tvalid-auc:0.866218\n",
            "Stopping. Best iteration:\n",
            "[349]\ttrain-auc:0.902437\tvalid-auc:0.866403\n",
            "\n",
            "[0]\ttrain-auc:0.78185\tvalid-auc:0.781901\n",
            "Multiple eval metrics have been passed: 'valid-auc' will be used for early stopping.\n",
            "\n",
            "Will train until valid-auc hasn't improved in 30 rounds.\n",
            "[100]\ttrain-auc:0.868224\tvalid-auc:0.857084\n",
            "[200]\ttrain-auc:0.887346\tvalid-auc:0.866323\n",
            "[300]\ttrain-auc:0.897699\tvalid-auc:0.867157\n",
            "Stopping. Best iteration:\n",
            "[350]\ttrain-auc:0.902632\tvalid-auc:0.867385\n",
            "\n",
            "[0]\ttrain-auc:0.783641\tvalid-auc:0.77991\n",
            "Multiple eval metrics have been passed: 'valid-auc' will be used for early stopping.\n",
            "\n",
            "Will train until valid-auc hasn't improved in 30 rounds.\n",
            "[100]\ttrain-auc:0.866949\tvalid-auc:0.852878\n",
            "[200]\ttrain-auc:0.887142\tvalid-auc:0.864131\n",
            "[300]\ttrain-auc:0.898303\tvalid-auc:0.865318\n",
            "Stopping. Best iteration:\n",
            "[300]\ttrain-auc:0.898303\tvalid-auc:0.865318\n",
            "\n"
          ]
        }
      ]
    },
    {
      "cell_type": "code",
      "source": [
        "models_clicks = train_model('clicks')"
      ],
      "metadata": {
        "colab": {
          "base_uri": "https://localhost:8080/"
        },
        "id": "YVamx3rqrjxU",
        "outputId": "d319c88d-e3fd-4ef7-b4cf-9f8c1528d4d9"
      },
      "execution_count": null,
      "outputs": [
        {
          "output_type": "stream",
          "name": "stdout",
          "text": [
            "[0]\ttrain-auc:0.767283\tvalid-auc:0.766948\n",
            "Multiple eval metrics have been passed: 'valid-auc' will be used for early stopping.\n",
            "\n",
            "Will train until valid-auc hasn't improved in 30 rounds.\n",
            "[100]\ttrain-auc:0.817447\tvalid-auc:0.813836\n",
            "[200]\ttrain-auc:0.828463\tvalid-auc:0.821714\n",
            "[300]\ttrain-auc:0.835229\tvalid-auc:0.824873\n",
            "[400]\ttrain-auc:0.840783\tvalid-auc:0.827037\n",
            "[500]\ttrain-auc:0.845549\tvalid-auc:0.828354\n",
            "[600]\ttrain-auc:0.850055\tvalid-auc:0.829544\n",
            "[700]\ttrain-auc:0.854017\tvalid-auc:0.830216\n",
            "[800]\ttrain-auc:0.857721\tvalid-auc:0.830746\n",
            "[900]\ttrain-auc:0.861313\tvalid-auc:0.831234\n",
            "[1000]\ttrain-auc:0.864616\tvalid-auc:0.831602\n",
            "[1100]\ttrain-auc:0.867743\tvalid-auc:0.83195\n",
            "[1200]\ttrain-auc:0.870756\tvalid-auc:0.832091\n",
            "Stopping. Best iteration:\n",
            "[1189]\ttrain-auc:0.870442\tvalid-auc:0.83213\n",
            "\n",
            "[0]\ttrain-auc:0.767474\tvalid-auc:0.766737\n",
            "Multiple eval metrics have been passed: 'valid-auc' will be used for early stopping.\n",
            "\n",
            "Will train until valid-auc hasn't improved in 30 rounds.\n",
            "[100]\ttrain-auc:0.816555\tvalid-auc:0.813013\n",
            "[200]\ttrain-auc:0.828078\tvalid-auc:0.821103\n",
            "[300]\ttrain-auc:0.835296\tvalid-auc:0.824834\n",
            "[400]\ttrain-auc:0.840906\tvalid-auc:0.826788\n",
            "[500]\ttrain-auc:0.845864\tvalid-auc:0.82827\n",
            "[600]\ttrain-auc:0.850204\tvalid-auc:0.829329\n",
            "[700]\ttrain-auc:0.854151\tvalid-auc:0.830133\n",
            "[800]\ttrain-auc:0.857755\tvalid-auc:0.830605\n",
            "[900]\ttrain-auc:0.861218\tvalid-auc:0.831102\n",
            "[1000]\ttrain-auc:0.864576\tvalid-auc:0.831545\n",
            "[1100]\ttrain-auc:0.867765\tvalid-auc:0.831874\n",
            "[1200]\ttrain-auc:0.870822\tvalid-auc:0.832079\n",
            "[1300]\ttrain-auc:0.873764\tvalid-auc:0.832246\n",
            "[1400]\ttrain-auc:0.876498\tvalid-auc:0.832405\n",
            "Stopping. Best iteration:\n",
            "[1420]\ttrain-auc:0.877058\tvalid-auc:0.832439\n",
            "\n",
            "[0]\ttrain-auc:0.7675\tvalid-auc:0.766684\n",
            "Multiple eval metrics have been passed: 'valid-auc' will be used for early stopping.\n",
            "\n",
            "Will train until valid-auc hasn't improved in 30 rounds.\n",
            "[100]\ttrain-auc:0.816956\tvalid-auc:0.813044\n",
            "[200]\ttrain-auc:0.828443\tvalid-auc:0.821271\n",
            "[300]\ttrain-auc:0.835324\tvalid-auc:0.8245\n",
            "[400]\ttrain-auc:0.840872\tvalid-auc:0.826362\n",
            "[500]\ttrain-auc:0.845777\tvalid-auc:0.827764\n",
            "[600]\ttrain-auc:0.850188\tvalid-auc:0.828724\n",
            "[700]\ttrain-auc:0.854195\tvalid-auc:0.829443\n",
            "[800]\ttrain-auc:0.857935\tvalid-auc:0.830063\n",
            "[900]\ttrain-auc:0.86147\tvalid-auc:0.830552\n",
            "[1000]\ttrain-auc:0.864707\tvalid-auc:0.830792\n",
            "[1100]\ttrain-auc:0.867845\tvalid-auc:0.831078\n",
            "[1200]\ttrain-auc:0.870859\tvalid-auc:0.83124\n",
            "[1300]\ttrain-auc:0.873839\tvalid-auc:0.831446\n",
            "[1400]\ttrain-auc:0.876529\tvalid-auc:0.831581\n",
            "[1500]\ttrain-auc:0.879139\tvalid-auc:0.831721\n",
            "Stopping. Best iteration:\n",
            "[1492]\ttrain-auc:0.878931\tvalid-auc:0.831721\n",
            "\n",
            "[0]\ttrain-auc:0.767392\tvalid-auc:0.767102\n",
            "Multiple eval metrics have been passed: 'valid-auc' will be used for early stopping.\n",
            "\n",
            "Will train until valid-auc hasn't improved in 30 rounds.\n",
            "[100]\ttrain-auc:0.816653\tvalid-auc:0.813039\n",
            "[200]\ttrain-auc:0.828513\tvalid-auc:0.821351\n",
            "[300]\ttrain-auc:0.835304\tvalid-auc:0.824391\n",
            "[400]\ttrain-auc:0.84095\tvalid-auc:0.8265\n",
            "[500]\ttrain-auc:0.845825\tvalid-auc:0.827876\n",
            "[600]\ttrain-auc:0.850179\tvalid-auc:0.828868\n",
            "[700]\ttrain-auc:0.854223\tvalid-auc:0.829715\n",
            "[800]\ttrain-auc:0.85805\tvalid-auc:0.830336\n",
            "[900]\ttrain-auc:0.861526\tvalid-auc:0.830758\n",
            "[1000]\ttrain-auc:0.864948\tvalid-auc:0.831053\n",
            "[1100]\ttrain-auc:0.868046\tvalid-auc:0.831216\n",
            "[1200]\ttrain-auc:0.871115\tvalid-auc:0.831424\n",
            "[1300]\ttrain-auc:0.873964\tvalid-auc:0.831567\n",
            "Stopping. Best iteration:\n",
            "[1320]\ttrain-auc:0.874572\tvalid-auc:0.831665\n",
            "\n",
            "[0]\ttrain-auc:0.76745\tvalid-auc:0.766382\n",
            "Multiple eval metrics have been passed: 'valid-auc' will be used for early stopping.\n",
            "\n",
            "Will train until valid-auc hasn't improved in 30 rounds.\n",
            "[100]\ttrain-auc:0.816724\tvalid-auc:0.813067\n",
            "[200]\ttrain-auc:0.828357\tvalid-auc:0.821565\n",
            "[300]\ttrain-auc:0.83523\tvalid-auc:0.824955\n",
            "[400]\ttrain-auc:0.840899\tvalid-auc:0.827045\n",
            "[500]\ttrain-auc:0.845712\tvalid-auc:0.828385\n",
            "[600]\ttrain-auc:0.85012\tvalid-auc:0.829358\n",
            "[700]\ttrain-auc:0.85419\tvalid-auc:0.830133\n",
            "[800]\ttrain-auc:0.857852\tvalid-auc:0.830525\n",
            "[900]\ttrain-auc:0.861287\tvalid-auc:0.830963\n",
            "[1000]\ttrain-auc:0.864533\tvalid-auc:0.83131\n",
            "[1100]\ttrain-auc:0.867729\tvalid-auc:0.831504\n",
            "[1200]\ttrain-auc:0.870713\tvalid-auc:0.831709\n",
            "[1300]\ttrain-auc:0.873497\tvalid-auc:0.831829\n",
            "Stopping. Best iteration:\n",
            "[1349]\ttrain-auc:0.874877\tvalid-auc:0.831904\n",
            "\n"
          ]
        }
      ]
    },
    {
      "cell_type": "code",
      "execution_count": null,
      "metadata": {
        "colab": {
          "base_uri": "https://localhost:8080/"
        },
        "id": "VQjkD-g0rOeE",
        "outputId": "a27671b0-8a08-4e94-b066-28bc554a8668"
      },
      "outputs": [
        {
          "output_type": "stream",
          "name": "stdout",
          "text": [
            "[0]\ttrain-auc:0.765727\tvalid-auc:0.765258\n",
            "Multiple eval metrics have been passed: 'valid-auc' will be used for early stopping.\n",
            "\n",
            "Will train until valid-auc hasn't improved in 30 rounds.\n",
            "[100]\ttrain-auc:0.798206\tvalid-auc:0.794312\n",
            "[200]\ttrain-auc:0.807126\tvalid-auc:0.800027\n",
            "[300]\ttrain-auc:0.813427\tvalid-auc:0.803024\n",
            "[400]\ttrain-auc:0.818585\tvalid-auc:0.804844\n",
            "[500]\ttrain-auc:0.823085\tvalid-auc:0.806117\n",
            "[600]\ttrain-auc:0.827009\tvalid-auc:0.806984\n",
            "[700]\ttrain-auc:0.830693\tvalid-auc:0.807728\n",
            "[800]\ttrain-auc:0.834152\tvalid-auc:0.808258\n",
            "[900]\ttrain-auc:0.837324\tvalid-auc:0.808651\n",
            "[1000]\ttrain-auc:0.840293\tvalid-auc:0.808919\n",
            "[1100]\ttrain-auc:0.843017\tvalid-auc:0.809104\n",
            "[1200]\ttrain-auc:0.845696\tvalid-auc:0.809279\n",
            "[1300]\ttrain-auc:0.848129\tvalid-auc:0.809366\n",
            "[1400]\ttrain-auc:0.850656\tvalid-auc:0.809493\n",
            "Stopping. Best iteration:\n",
            "[1432]\ttrain-auc:0.851393\tvalid-auc:0.809519\n",
            "\n",
            "[0]\ttrain-auc:0.765996\tvalid-auc:0.765279\n",
            "Multiple eval metrics have been passed: 'valid-auc' will be used for early stopping.\n",
            "\n",
            "Will train until valid-auc hasn't improved in 30 rounds.\n",
            "[100]\ttrain-auc:0.798212\tvalid-auc:0.794633\n",
            "[200]\ttrain-auc:0.807219\tvalid-auc:0.800192\n",
            "[300]\ttrain-auc:0.813546\tvalid-auc:0.803305\n",
            "[400]\ttrain-auc:0.818562\tvalid-auc:0.805067\n",
            "[500]\ttrain-auc:0.822881\tvalid-auc:0.806431\n",
            "[600]\ttrain-auc:0.826698\tvalid-auc:0.807313\n",
            "[700]\ttrain-auc:0.830343\tvalid-auc:0.808133\n",
            "[800]\ttrain-auc:0.833711\tvalid-auc:0.808516\n",
            "[900]\ttrain-auc:0.836792\tvalid-auc:0.808893\n",
            "[1000]\ttrain-auc:0.839865\tvalid-auc:0.80924\n",
            "[1100]\ttrain-auc:0.842724\tvalid-auc:0.809414\n",
            "[1200]\ttrain-auc:0.845333\tvalid-auc:0.809572\n",
            "[1300]\ttrain-auc:0.847884\tvalid-auc:0.80977\n",
            "[1400]\ttrain-auc:0.850433\tvalid-auc:0.810009\n",
            "[1500]\ttrain-auc:0.852799\tvalid-auc:0.8101\n",
            "Stopping. Best iteration:\n",
            "[1482]\ttrain-auc:0.852397\tvalid-auc:0.810128\n",
            "\n",
            "[0]\ttrain-auc:0.766019\tvalid-auc:0.765093\n",
            "Multiple eval metrics have been passed: 'valid-auc' will be used for early stopping.\n",
            "\n",
            "Will train until valid-auc hasn't improved in 30 rounds.\n",
            "[100]\ttrain-auc:0.798168\tvalid-auc:0.794231\n",
            "[200]\ttrain-auc:0.807391\tvalid-auc:0.80012\n",
            "[300]\ttrain-auc:0.813434\tvalid-auc:0.80299\n",
            "[400]\ttrain-auc:0.818779\tvalid-auc:0.804892\n",
            "[500]\ttrain-auc:0.823142\tvalid-auc:0.80613\n",
            "[600]\ttrain-auc:0.826949\tvalid-auc:0.806928\n",
            "[700]\ttrain-auc:0.830478\tvalid-auc:0.807685\n",
            "[800]\ttrain-auc:0.833961\tvalid-auc:0.808308\n",
            "[900]\ttrain-auc:0.837063\tvalid-auc:0.808789\n",
            "[1000]\ttrain-auc:0.840015\tvalid-auc:0.809106\n",
            "[1100]\ttrain-auc:0.842858\tvalid-auc:0.809374\n",
            "[1200]\ttrain-auc:0.845552\tvalid-auc:0.809556\n",
            "[1300]\ttrain-auc:0.848089\tvalid-auc:0.80981\n",
            "[1400]\ttrain-auc:0.850435\tvalid-auc:0.809926\n",
            "[1500]\ttrain-auc:0.852908\tvalid-auc:0.809995\n",
            "Stopping. Best iteration:\n",
            "[1516]\ttrain-auc:0.85328\tvalid-auc:0.810015\n",
            "\n",
            "[0]\ttrain-auc:0.765869\tvalid-auc:0.765686\n",
            "Multiple eval metrics have been passed: 'valid-auc' will be used for early stopping.\n",
            "\n",
            "Will train until valid-auc hasn't improved in 30 rounds.\n",
            "[100]\ttrain-auc:0.798136\tvalid-auc:0.794587\n",
            "[200]\ttrain-auc:0.807465\tvalid-auc:0.80036\n",
            "[300]\ttrain-auc:0.813491\tvalid-auc:0.803052\n",
            "[400]\ttrain-auc:0.818695\tvalid-auc:0.805026\n",
            "[500]\ttrain-auc:0.823212\tvalid-auc:0.806397\n",
            "[600]\ttrain-auc:0.827152\tvalid-auc:0.807351\n",
            "[700]\ttrain-auc:0.830805\tvalid-auc:0.808176\n",
            "[800]\ttrain-auc:0.834195\tvalid-auc:0.808637\n",
            "[900]\ttrain-auc:0.837375\tvalid-auc:0.80903\n",
            "[1000]\ttrain-auc:0.840277\tvalid-auc:0.80926\n",
            "[1100]\ttrain-auc:0.843023\tvalid-auc:0.809481\n",
            "[1200]\ttrain-auc:0.845671\tvalid-auc:0.80959\n",
            "[1300]\ttrain-auc:0.8482\tvalid-auc:0.809787\n",
            "Stopping. Best iteration:\n",
            "[1308]\ttrain-auc:0.848374\tvalid-auc:0.809807\n",
            "\n",
            "[0]\ttrain-auc:0.765901\tvalid-auc:0.764818\n",
            "Multiple eval metrics have been passed: 'valid-auc' will be used for early stopping.\n",
            "\n",
            "Will train until valid-auc hasn't improved in 30 rounds.\n",
            "[100]\ttrain-auc:0.798024\tvalid-auc:0.794469\n",
            "[200]\ttrain-auc:0.807017\tvalid-auc:0.800078\n",
            "[300]\ttrain-auc:0.813452\tvalid-auc:0.803142\n",
            "[400]\ttrain-auc:0.818436\tvalid-auc:0.805013\n",
            "[500]\ttrain-auc:0.822767\tvalid-auc:0.806206\n",
            "[600]\ttrain-auc:0.826866\tvalid-auc:0.8072\n",
            "[700]\ttrain-auc:0.830503\tvalid-auc:0.807925\n",
            "[800]\ttrain-auc:0.833799\tvalid-auc:0.808433\n",
            "[900]\ttrain-auc:0.836916\tvalid-auc:0.808728\n",
            "[1000]\ttrain-auc:0.839849\tvalid-auc:0.809087\n",
            "[1100]\ttrain-auc:0.842642\tvalid-auc:0.809301\n",
            "Stopping. Best iteration:\n",
            "[1122]\ttrain-auc:0.843251\tvalid-auc:0.809322\n",
            "\n"
          ]
        }
      ],
      "source": [
        "models_clicks = train_model('clicks')"
      ]
    },
    {
      "cell_type": "code",
      "execution_count": null,
      "metadata": {
        "colab": {
          "base_uri": "https://localhost:8080/"
        },
        "id": "fIB01JIE4eKY",
        "outputId": "892a14fb-2af6-424a-99e0-78da1b669083"
      },
      "outputs": [
        {
          "output_type": "stream",
          "name": "stdout",
          "text": [
            "[0]\ttrain-auc:0.761486\tvalid-auc:0.760168\n",
            "Multiple eval metrics have been passed: 'valid-auc' will be used for early stopping.\n",
            "\n",
            "Will train until valid-auc hasn't improved in 30 rounds.\n",
            "[100]\ttrain-auc:0.817292\tvalid-auc:0.804208\n",
            "[200]\ttrain-auc:0.832539\tvalid-auc:0.80752\n",
            "[300]\ttrain-auc:0.844195\tvalid-auc:0.808752\n",
            "[400]\ttrain-auc:0.854666\tvalid-auc:0.809341\n",
            "Stopping. Best iteration:\n",
            "[455]\ttrain-auc:0.860011\tvalid-auc:0.809518\n",
            "\n",
            "[0]\ttrain-auc:0.762242\tvalid-auc:0.76011\n",
            "Multiple eval metrics have been passed: 'valid-auc' will be used for early stopping.\n",
            "\n",
            "Will train until valid-auc hasn't improved in 30 rounds.\n",
            "[100]\ttrain-auc:0.818404\tvalid-auc:0.804029\n",
            "[200]\ttrain-auc:0.833742\tvalid-auc:0.807626\n",
            "[300]\ttrain-auc:0.84547\tvalid-auc:0.808743\n",
            "[400]\ttrain-auc:0.855932\tvalid-auc:0.809144\n",
            "Stopping. Best iteration:\n",
            "[434]\ttrain-auc:0.859357\tvalid-auc:0.809283\n",
            "\n",
            "[0]\ttrain-auc:0.762917\tvalid-auc:0.761599\n",
            "Multiple eval metrics have been passed: 'valid-auc' will be used for early stopping.\n",
            "\n",
            "Will train until valid-auc hasn't improved in 30 rounds.\n",
            "[100]\ttrain-auc:0.818523\tvalid-auc:0.803258\n",
            "[200]\ttrain-auc:0.83338\tvalid-auc:0.806692\n",
            "Stopping. Best iteration:\n",
            "[244]\ttrain-auc:0.839026\tvalid-auc:0.807241\n",
            "\n",
            "[0]\ttrain-auc:0.761816\tvalid-auc:0.758004\n",
            "Multiple eval metrics have been passed: 'valid-auc' will be used for early stopping.\n",
            "\n",
            "Will train until valid-auc hasn't improved in 30 rounds.\n",
            "[100]\ttrain-auc:0.817971\tvalid-auc:0.802674\n",
            "[200]\ttrain-auc:0.832816\tvalid-auc:0.806478\n",
            "[300]\ttrain-auc:0.844826\tvalid-auc:0.807341\n",
            "[400]\ttrain-auc:0.855177\tvalid-auc:0.807504\n",
            "[500]\ttrain-auc:0.864384\tvalid-auc:0.807726\n",
            "Stopping. Best iteration:\n",
            "[523]\ttrain-auc:0.866353\tvalid-auc:0.807817\n",
            "\n",
            "[0]\ttrain-auc:0.762681\tvalid-auc:0.758646\n",
            "Multiple eval metrics have been passed: 'valid-auc' will be used for early stopping.\n",
            "\n",
            "Will train until valid-auc hasn't improved in 30 rounds.\n",
            "[100]\ttrain-auc:0.817995\tvalid-auc:0.803904\n",
            "[200]\ttrain-auc:0.832754\tvalid-auc:0.807221\n",
            "[300]\ttrain-auc:0.844637\tvalid-auc:0.808337\n",
            "[400]\ttrain-auc:0.855221\tvalid-auc:0.808653\n",
            "Stopping. Best iteration:\n",
            "[375]\ttrain-auc:0.852652\tvalid-auc:0.808778\n",
            "\n"
          ]
        }
      ],
      "source": [
        "models_carts = train_model('carts')"
      ]
    },
    {
      "cell_type": "code",
      "execution_count": null,
      "metadata": {
        "id": "_sIrLEoJvcs1"
      },
      "outputs": [],
      "source": [
        "def valid(): \n",
        "  result = {}\n",
        "  objects = ['clicks','carts','orders']\n",
        "  for t in objects:\n",
        "    df_train = df_train_dict[t]\n",
        "    features =  [i for i in df_train.columns if 'features' in i] + ['all_clicks_count','all_carts_count','all_orders_count']\n",
        "    df_train['pred'] = -1 \n",
        "    kf = GroupKFold(n_splits=5)\n",
        "    # kf = StratifiedKFold(n_splits = 5)\n",
        "    for fold , (train_index,test_index) in enumerate(kf.split(df_train[features],df_train['label'],groups=df_train['session'])):\n",
        "        df_test_x , df_test_y = df_train.loc[test_index,features],df_train.loc[test_index,'label'].values\n",
        "        model = joblib.load(f'/content/drive/MyDrive/oto_recommend/model/xgb_model_v2_{t}_{fold}_rank_pairwise.pkl')\n",
        "        # pred = model.predict_proba(df_test_x)[:,1]\n",
        "        dvalid = xgb.DMatrix(df_test_x , df_test_y) \n",
        "        pred = model.predict(dvalid)\n",
        "        df_train.loc[test_index,'pred'] = pred \n",
        "    result[t] = df_train\n",
        "  return result\n",
        "df_valid = valid()"
      ]
    },
    {
      "cell_type": "code",
      "execution_count": null,
      "metadata": {
        "colab": {
          "base_uri": "https://localhost:8080/"
        },
        "id": "OsJzrzo27ivx",
        "outputId": "aa6ed631-0b28-4671-8bda-af712f169654"
      },
      "outputs": [
        {
          "output_type": "stream",
          "name": "stderr",
          "text": [
            "100%|██████████| 1526566/1526566 [00:21<00:00, 70977.20it/s]\n",
            "100%|██████████| 290322/290322 [00:04<00:00, 71960.46it/s]\n",
            "100%|██████████| 149728/149728 [00:02<00:00, 70196.16it/s]\n"
          ]
        }
      ],
      "source": [
        "tmp1 = df_valid['clicks']\n",
        "tmp1['rank'] = df_valid['clicks'].groupby('session')['pred'].rank(ascending=False,method='first')\n",
        "tmp1 = tmp1[tmp1['rank'] <= 20]\n",
        "df_valid_clicks = tmp1.groupby('session')['recall_aids'].progress_apply(lambda x :list(set(x.values)))\n",
        "\n",
        "tmp1 = df_valid['carts'] \n",
        "tmp1['rank'] = df_valid['carts'].groupby('session')['pred'].rank(ascending=False,method='first')\n",
        "tmp1 = tmp1[tmp1['rank'] <= 20]\n",
        "df_valid_carts = tmp1.groupby('session')['recall_aids'].progress_apply(lambda x :list(set(x.values)))\n",
        "\n",
        "tmp1 = df_valid['orders'] \n",
        "tmp1['rank'] = df_valid['orders'].groupby('session')['pred'].rank(ascending=False,method='first')\n",
        "tmp1 = tmp1[tmp1['rank'] <= 20]\n",
        "df_valid_orders = tmp1.groupby('session')['recall_aids'].progress_apply(lambda x :list(set(x.values)))"
      ]
    },
    {
      "cell_type": "code",
      "execution_count": null,
      "metadata": {
        "colab": {
          "base_uri": "https://localhost:8080/"
        },
        "id": "Z524rhgX9EQf",
        "outputId": "29a8aa81-5f56-470d-8429-ef734b3f7098"
      },
      "outputs": [
        {
          "output_type": "stream",
          "name": "stderr",
          "text": [
            "100%|██████████| 1526566/1526566 [00:34<00:00, 44716.28it/s]\n"
          ]
        },
        {
          "output_type": "stream",
          "name": "stdout",
          "text": [
            "clicks recall = 0.6585218064597272\n"
          ]
        },
        {
          "output_type": "stream",
          "name": "stderr",
          "text": [
            "100%|██████████| 290322/290322 [00:06<00:00, 45652.63it/s]\n"
          ]
        },
        {
          "output_type": "stream",
          "name": "stdout",
          "text": [
            "carts recall = 0.4704708794158113\n"
          ]
        },
        {
          "output_type": "stream",
          "name": "stderr",
          "text": [
            "100%|██████████| 149728/149728 [00:03<00:00, 45212.63it/s]\n"
          ]
        },
        {
          "output_type": "stream",
          "name": "stdout",
          "text": [
            "orders recall = 0.6765662265792269\n",
            "=============\n",
            "Overall Recall = 0.6129331804182523\n",
            "=============\n"
          ]
        }
      ],
      "source": [
        "result = {}\n",
        "score = 0\n",
        "weights = {'clicks': 0.10, 'carts': 0.30, 'orders': 0.60}\n",
        "object_list = ['clicks','carts','orders']\n",
        "for t in object_list:\n",
        "  if t == 'clicks':\n",
        "    df_train = df_valid_clicks\n",
        "  elif t == 'carts': \n",
        "    df_train = df_valid_carts \n",
        "  else:\n",
        "    df_train = df_valid_orders\n",
        "  test_pred_df = df_train.reset_index()\n",
        "  test_pred_df.columns = ['session','pred_aid']\n",
        "  test_label = pd.read_parquet('/content/test_labels.parquet')\n",
        "  test_label_tmp = test_label[test_label['type'] == t]\n",
        "  test_tmp = test_pred_df.merge(test_label_tmp[['session','ground_truth']],on='session')\n",
        "  # test_tmp['recall_aid'] = test_tmp['aid'].progress_apply(lambda x : get_recall_aid(x,object=t))\n",
        "  test_tmp['hits_aid'] = test_tmp.progress_apply(lambda df: list(set(df.ground_truth).intersection(df.pred_aid)), axis=1)\n",
        "  test_tmp['hits'] = test_tmp['hits_aid'].apply(lambda x : len(x))\n",
        "  test_tmp['gt_count'] = test_tmp.ground_truth.str.len().clip(0,20)\n",
        "  recall = test_tmp['hits'].sum() / test_tmp['gt_count'].sum()\n",
        "  score += weights[t]*recall\n",
        "  print(f'{t} recall =',recall)\n",
        "  result[t] = test_tmp\n",
        "print('=============')\n",
        "print('Overall Recall =',score)\n",
        "print('=============')"
      ]
    },
    {
      "cell_type": "code",
      "execution_count": null,
      "metadata": {
        "id": "EJ8C5UqT9Xpl"
      },
      "outputs": [],
      "source": []
    }
  ],
  "metadata": {
    "colab": {
      "machine_shape": "hm",
      "provenance": []
    },
    "gpuClass": "premium",
    "kernelspec": {
      "display_name": "Python 3",
      "name": "python3"
    },
    "language_info": {
      "name": "python"
    },
    "accelerator": "GPU"
  },
  "nbformat": 4,
  "nbformat_minor": 0
}