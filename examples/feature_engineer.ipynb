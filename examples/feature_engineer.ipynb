{
  "cells": [
    {
      "cell_type": "code",
      "execution_count": null,
      "metadata": {
        "colab": {
          "base_uri": "https://localhost:8080/"
        },
        "id": "L0ib_kLZWPm2",
        "outputId": "432d268a-15b5-4470-bfad-0bf585ef5e28"
      },
      "outputs": [
        {
          "output_type": "stream",
          "name": "stdout",
          "text": [
            "Output file downloaded to ./__notebook_source__.ipynb\n",
            "Output file downloaded to ./top_50_buy2buy_fortrain_v7_0.pqt\n",
            "Output file downloaded to ./top_50_carts_orders_fortrain_v7_0.pqt\n",
            "Output file downloaded to ./top_50_carts_orders_fortrain_v7_1.pqt\n",
            "Output file downloaded to ./top_50_carts_orders_fortrain_v7_2.pqt\n",
            "Output file downloaded to ./top_50_carts_orders_fortrain_v7_3.pqt\n",
            "Output file downloaded to ./top_50_clicks_fortrain_v7_0.pqt\n",
            "Output file downloaded to ./top_50_clicks_fortrain_v7_1.pqt\n",
            "Output file downloaded to ./top_50_clicks_fortrain_v7_2.pqt\n",
            "Output file downloaded to ./top_50_clicks_fortrain_v7_3.pqt\n",
            "Kernel log downloaded to ./otto-tuning-pipeline2-lb-0-577.log \n",
            "Downloading ottoprecalculatedfeatureparquet.zip to /content\n",
            " 98% 465M/475M [00:04<00:00, 144MB/s]\n",
            "100% 475M/475M [00:04<00:00, 111MB/s]\n"
          ]
        }
      ],
      "source": [
        "!unzip -q '/content/drive/MyDrive/oto_recommend/data/otto-validation.zip'\n",
        "!kaggle kernels output luckyzq/otto-tuning-pipeline2-lb-0-577 -p './'\n",
        "!kaggle datasets download -d alexlods/ottoprecalculatedfeatureparquet\n",
        "!unzip -q /content/ottoprecalculatedfeatureparquet.zip"
      ]
    },
    {
      "cell_type": "code",
      "execution_count": null,
      "metadata": {
        "id": "dPq7mv0XWUN9"
      },
      "outputs": [],
      "source": [
        "import pandas as pd\n",
        "import glob\n",
        "import datetime,time\n",
        "from tqdm.notebook import tqdm\n",
        "from  datetime  import datetime\n",
        "!pip install -q pandarallel\n",
        "from pandarallel import pandarallel\n",
        "import numpy as np\n",
        "from tqdm import tqdm\n",
        "tqdm.pandas()\n",
        "import gc\n",
        "import xgboost as xgb\n",
        "from xgboost import XGBClassifier\n",
        "from sklearn.model_selection import StratifiedKFold"
      ]
    },
    {
      "cell_type": "code",
      "execution_count": null,
      "metadata": {
        "id": "gqMizmZLWVk0"
      },
      "outputs": [],
      "source": [
        "def get_train_data():\n",
        "  result = {}\n",
        "  objects = ['clicks','carts','orders']\n",
        "  for t in objects:\n",
        "    if t == 'clicks':\n",
        "      df_train = pd.read_parquet(f'/content/drive/MyDrive/oto_recommend/process_data/train_{t}_v2.parquet')\n",
        "      df_train['rank'] =  df_train.groupby('session')['recall_aids'].cumcount()\n",
        "      df_negative = df_train[df_train['label'] == 0].sample(int(len(df_train[df_train['label'] == 1])*2),random_state=19990829)\n",
        "      df_train = pd.concat([df_train[df_train['label']==1],df_negative],axis=0).reset_index(drop=True)\n",
        "    else:\n",
        "      df_train = pd.read_parquet(f'/content/drive/MyDrive/oto_recommend/process_data/train_{t}_v2.parquet')\n",
        "      df_train['rank'] =  df_train.groupby('session')['recall_aids'].cumcount()\n",
        "      df_negative = df_train[df_train['label'] == 0].sample(int(len(df_train[df_train['label'] == 1])*2),random_state=19990829)\n",
        "      df_train = pd.concat([df_train[df_train['label']==1],df_negative],axis=0).reset_index(drop=True)\n",
        "    del df_negative\n",
        "    gc.collect()\n",
        "    result[t] = df_train\n",
        "  return result"
      ]
    },
    {
      "cell_type": "code",
      "execution_count": null,
      "metadata": {
        "id": "Nacq0zX_WgMF"
      },
      "outputs": [],
      "source": [
        "df_train_dict = get_train_data()"
      ]
    },
    {
      "cell_type": "code",
      "execution_count": null,
      "metadata": {
        "id": "KvJR-JZBXtHt"
      },
      "outputs": [],
      "source": [
        "## 1.关联统计特征"
      ]
    },
    {
      "cell_type": "code",
      "execution_count": null,
      "metadata": {
        "colab": {
          "base_uri": "https://localhost:8080/"
        },
        "id": "8dKYLmwpX9kK",
        "outputId": "88fbc650-3a88-4226-8958-6e8659f78db4"
      },
      "outputs": [
        {
          "output_type": "execute_result",
          "data": {
            "text/plain": [
              "280"
            ]
          },
          "metadata": {},
          "execution_count": 32
        }
      ],
      "source": [
        "features_stastics = pd.read_parquet('/content/drive/MyDrive/oto_recommend/process_data/feautres_statistic.parquet')\n",
        "for t in objects:\n",
        "  df_train_dict[t] = df_train_dict[t].merge(features_stastics,left_on=['recall_aids'],right_on=['aid'],how='left')\n",
        "del features_stastics\n",
        "gc.collect()"
      ]
    },
    {
      "cell_type": "code",
      "execution_count": null,
      "metadata": {
        "id": "bHG_a-_GXkJj"
      },
      "outputs": [],
      "source": [
        "## 2.关联真实行为中最后的3个ITEM"
      ]
    },
    {
      "cell_type": "code",
      "execution_count": null,
      "metadata": {
        "colab": {
          "base_uri": "https://localhost:8080/"
        },
        "id": "gQbFCKmoYdlQ",
        "outputId": "818ab812-2fd3-4f23-c8b2-2746b3640adb"
      },
      "outputs": [
        {
          "output_type": "stream",
          "name": "stderr",
          "text": [
            "100%|██████████| 20/20 [00:01<00:00, 10.11it/s]\n"
          ]
        }
      ],
      "source": [
        "## 真实的行为数据\n",
        "files = glob.glob('/content/test_parquet/*')\n",
        "for i in tqdm(range(len(files))):\n",
        "  if i == 0:\n",
        "    df_test = pd.read_parquet(files[i])\n",
        "  else:\n",
        "    df_test = pd.concat([df_test,pd.read_parquet(files[i])],axis=0)\n",
        "df_test = df_test.reset_index(drop=True)"
      ]
    },
    {
      "cell_type": "code",
      "execution_count": null,
      "metadata": {
        "colab": {
          "base_uri": "https://localhost:8080/"
        },
        "id": "p8Z5IsbaYeoR",
        "outputId": "195906c2-5e49-437e-b3e0-0a89e268ab21"
      },
      "outputs": [
        {
          "output_type": "stream",
          "name": "stderr",
          "text": [
            "<ipython-input-35-9043d87531fc>:4: SettingWithCopyWarning: \n",
            "A value is trying to be set on a copy of a slice from a DataFrame.\n",
            "Try using .loc[row_indexer,col_indexer] = value instead\n",
            "\n",
            "See the caveats in the documentation: https://pandas.pydata.org/pandas-docs/stable/user_guide/indexing.html#returning-a-view-versus-a-copy\n",
            "  tmp1['rk'] = tmp1.groupby('session')['ts'].rank(ascending=False,method='first')\n",
            "100%|██████████| 1799550/1799550 [00:39<00:00, 46060.81it/s]\n",
            "100%|██████████| 271970/271970 [00:04<00:00, 57701.78it/s]\n",
            "100%|██████████| 39635/39635 [00:00<00:00, 57095.08it/s]\n",
            "100%|██████████| 1799550/1799550 [00:33<00:00, 53487.38it/s]\n",
            "100%|██████████| 271970/271970 [00:04<00:00, 57911.04it/s]\n",
            "100%|██████████| 39635/39635 [00:00<00:00, 57677.25it/s]\n",
            "100%|██████████| 1799550/1799550 [00:32<00:00, 55943.21it/s]\n",
            "100%|██████████| 271970/271970 [00:04<00:00, 57357.42it/s]\n",
            "100%|██████████| 39635/39635 [00:00<00:00, 55729.64it/s]\n"
          ]
        }
      ],
      "source": [
        "for t in objects:\n",
        "  for t1 in objects:\n",
        "    tmp1 = df_test[df_test['type'] == t1]\n",
        "    tmp1['rk'] = tmp1.groupby('session')['ts'].rank(ascending=False,method='first')\n",
        "    if t1 == 'clicks':\n",
        "      rk = 3\n",
        "    else:\n",
        "      rk = 1\n",
        "    tmp1 = tmp1[tmp1['rk'] <= rk]\n",
        "    tmp1 = tmp1.groupby('session')['aid'].progress_apply(lambda x : ','.join(map(str,list(set(x.values)))))\n",
        "    df_train_dict[t] = df_train_dict[t].merge(tmp1.reset_index().rename(columns={'aid':f'last_{t1}_aid_list'}),on=['session'],how='left')\n",
        "    if t1 == 'clicks':\n",
        "      df_train_dict[t] = pd.concat([df_train_dict[t],df_train_dict[t][f'last_{t1}_aid_list'].str.split(',',expand=True).rename(columns={0:f'last_{t1}_3_aid',1:f'last_{t1}_2_aid',2:f'last_{t1}_1_aid'})],axis=1)\n",
        "    else:\n",
        "      df_train_dict[t] = pd.concat([df_train_dict[t],df_train_dict[t][f'last_{t1}_aid_list'].str.split(',',expand=True).rename(columns={0:f'last_{t1}_1_aid'})],axis=1)"
      ]
    },
    {
      "cell_type": "code",
      "execution_count": null,
      "metadata": {
        "id": "kBT7E0DhXkO8"
      },
      "outputs": [],
      "source": [
        "## 3.计算特征之间的共现程度"
      ]
    },
    {
      "cell_type": "code",
      "execution_count": null,
      "metadata": {
        "colab": {
          "base_uri": "https://localhost:8080/"
        },
        "id": "LVIKRPmPfcWq",
        "outputId": "904e0130-956c-4f1b-80b2-2be1a7b25a34"
      },
      "outputs": [
        {
          "output_type": "stream",
          "name": "stderr",
          "text": [
            "100%|██████████| 3/3 [00:04<00:00,  1.39s/it]\n",
            "100%|██████████| 3/3 [00:05<00:00,  1.88s/it]\n"
          ]
        }
      ],
      "source": [
        "VER = 7\n",
        "DISK_PIECES = 4\n",
        "\n",
        "top_20_clicks = pd.read_parquet(f'./top_50_clicks_fortrain_v{VER}_0.pqt')\n",
        "\n",
        "for k in tqdm(range(1,DISK_PIECES)): \n",
        "    top_20_clicks = pd.concat([top_20_clicks,pd.read_parquet(f'./top_50_clicks_fortrain_v{VER}_{k}.pqt')],axis=0).reset_index(drop=True)\n",
        "\n",
        "\n",
        "top_20_buys =  pd.read_parquet(f'./top_50_carts_orders_fortrain_v{VER}_0.pqt') \n",
        "\n",
        "for k in tqdm(range(1,DISK_PIECES)): \n",
        "    top_20_buys =  pd.concat([top_20_buys,pd.read_parquet(f'./top_50_carts_orders_fortrain_v{VER}_{k}.pqt')],axis=0).reset_index(drop=True)\n",
        "\n",
        "top_20_buy2buy =  pd.read_parquet(f'./top_50_buy2buy_fortrain_v{VER}_0.pqt') "
      ]
    },
    {
      "cell_type": "code",
      "execution_count": null,
      "metadata": {
        "id": "aeVn46sAgVB9"
      },
      "outputs": [],
      "source": [
        "last_aid_features = ['last_clicks_3_aid','last_clicks_2_aid','last_clicks_1_aid','last_carts_1_aid','last_orders_1_aid']\n",
        "for t in objects:\n",
        "  df_train_dict[t][last_aid_features] = df_train_dict[t][last_aid_features].fillna(-1).astype('int32')\n",
        "  for feature in last_aid_features:\n",
        "    if 'clicks' in feature:\n",
        "      df_train_dict[t] = df_train_dict[t].merge(top_20_clicks.rename(columns={'aid_x':feature,'aid_y':'recall_aids'}),on=[feature,'recall_aids'],how='left').rename(columns={'wgt':f'features4_{feature}_wgt'})\n",
        "    elif 'carts' in feature:\n",
        "      df_train_dict[t] = df_train_dict[t].merge(top_20_buys.rename(columns={'aid_x':feature,'aid_y':'recall_aids'}),on=[feature,'recall_aids'],how='left').rename(columns={'wgt':f'features4_{feature}_wgt'})\n",
        "    elif 'orders' in feature:\n",
        "      df_train_dict[t] = df_train_dict[t].merge(top_20_buy2buy.rename(columns={'aid_x':feature,'aid_y':'recall_aids'}),on=[feature,'recall_aids'],how='left').rename(columns={'wgt':f'features4_{feature}_wgt'})"
      ]
    },
    {
      "cell_type": "code",
      "execution_count": null,
      "metadata": {
        "id": "zRBJnFACjqEx",
        "colab": {
          "base_uri": "https://localhost:8080/"
        },
        "outputId": "c485bd28-628c-4aa7-9655-afed38396f18"
      },
      "outputs": [
        {
          "output_type": "execute_result",
          "data": {
            "text/plain": [
              "19"
            ]
          },
          "metadata": {},
          "execution_count": 39
        }
      ],
      "source": [
        "del top_20_clicks , top_20_buys , top_20_buy2buy\n",
        "gc.collect()"
      ]
    },
    {
      "cell_type": "code",
      "execution_count": null,
      "metadata": {
        "id": "vCKVOEY0XiFc"
      },
      "outputs": [],
      "source": [
        "## 4.session 特征"
      ]
    },
    {
      "cell_type": "code",
      "execution_count": null,
      "metadata": {
        "id": "ij36dqBwjygn"
      },
      "outputs": [],
      "source": [
        "## 关联真实的行为日志\n",
        "df_test_clicks = df_test[df_test['type'] == 'clicks'].groupby('session')['aid'].apply(lambda x : list(set(x))).reset_index()\n",
        "df_test_carts = df_test[df_test['type'] == 'carts'].groupby('session')['aid'].apply(lambda x : list(set(x))).reset_index()\n",
        "df_test_orders = df_test[df_test['type'] == 'orders'].groupby('session')['aid'].apply(lambda x : list(set(x))).reset_index()\n",
        "df_test_clicks.columns = ['session','truth_aid_clicks_list']\n",
        "df_test_carts.columns = ['session','truth_aid_carts_list']\n",
        "df_test_orders.columns = ['session','truth_aid_orders_list']"
      ]
    },
    {
      "cell_type": "code",
      "execution_count": null,
      "metadata": {
        "id": "CZay0I4Zj8jF"
      },
      "outputs": [],
      "source": [
        "for t in objects:\n",
        "  df_train_dict[t] = df_train_dict[t].merge(df_test_clicks,on=['session'],how='left').merge(df_test_carts,on=['session'],how='left').merge(df_test_orders,on=['session'],how='left')"
      ]
    },
    {
      "cell_type": "code",
      "execution_count": null,
      "metadata": {
        "id": "wIt8-BgMlj60",
        "colab": {
          "base_uri": "https://localhost:8080/"
        },
        "outputId": "e214df46-9a0a-474c-eb28-525e804f88d7"
      },
      "outputs": [
        {
          "output_type": "execute_result",
          "data": {
            "text/plain": [
              "0"
            ]
          },
          "metadata": {},
          "execution_count": 43
        }
      ],
      "source": [
        "del df_test_clicks , df_test_carts ,df_test_orders\n",
        "gc.collect()"
      ]
    },
    {
      "cell_type": "code",
      "execution_count": null,
      "metadata": {
        "id": "9Yuezel4izGx"
      },
      "outputs": [],
      "source": [
        "for t in objects:\n",
        "  tmp = df_train_dict[t]\n",
        "  tmp['features5_clicks_len'] = tmp['truth_aid_clicks_list'].apply(lambda x : len(x) if type(x) == list else 0)\n",
        "  tmp['features5_carts_len'] = tmp['truth_aid_carts_list'].apply(lambda x : len(x) if type(x) == list else 0)\n",
        "  tmp['features5_orders_len'] = tmp['truth_aid_orders_list'].apply(lambda x : len(x) if type(x) == list else 0)\n",
        "  tmp['features5_session_len'] = tmp['features5_clicks_len'] + tmp['features5_carts_len'] + tmp['features5_orders_len']\n",
        "  df_train_dict[t] = tmp"
      ]
    },
    {
      "cell_type": "code",
      "execution_count": null,
      "metadata": {
        "id": "EIx2s0GVizJU"
      },
      "outputs": [],
      "source": [
        "## 5.ts特征"
      ]
    },
    {
      "cell_type": "code",
      "execution_count": null,
      "metadata": {
        "id": "sOkz6hd5izLz"
      },
      "outputs": [],
      "source": [
        "dts = pd.to_datetime(df_test['ts']/1000,unit='s')\n",
        "df_test['day'] = dts.dt.weekday\n",
        "df_test['hour'] = dts.dt.hour\n",
        "df_test['hm'] = (dts.dt.hour*100 + dts.dt.minute*100//60).astype('int16')\n",
        "df_test_day = df_test.groupby('session')['day'].mean().reset_index()\n",
        "df_test_hour = df_test.groupby('session')['hour'].mean().reset_index()\n",
        "df_test_hm = df_test.groupby('session')['hm'].mean().reset_index()"
      ]
    },
    {
      "cell_type": "code",
      "execution_count": null,
      "metadata": {
        "id": "gxn1BZuCizOf"
      },
      "outputs": [],
      "source": [
        "for t in objects:\n",
        "  df_train_dict[t] = df_train_dict[t].merge(df_test_day.reset_index(),on=['session'],how='left').merge(df_test_hour.reset_index(),on=['session'],how='left').merge(df_test_hm.reset_index(),on=['session'],how='left')\n",
        "  df_train_dict[t] = df_train_dict[t].rename(columns={'day':'features6_day','hour':'features6_hour','hm':'features6_hm'})"
      ]
    },
    {
      "cell_type": "code",
      "execution_count": null,
      "metadata": {
        "id": "dPwZVXIGeUi-",
        "colab": {
          "base_uri": "https://localhost:8080/"
        },
        "outputId": "80621ab9-bce5-4f8f-96c5-8ee1a2504570"
      },
      "outputs": [
        {
          "output_type": "execute_result",
          "data": {
            "text/plain": [
              "0"
            ]
          },
          "metadata": {},
          "execution_count": 48
        }
      ],
      "source": [
        "del df_test_day , df_test_hour ,df_test_hm\n",
        "gc.collect()"
      ]
    },
    {
      "cell_type": "code",
      "execution_count": null,
      "metadata": {
        "id": "pnbBtX8TmQUP"
      },
      "outputs": [],
      "source": [
        "## 6. embedding特征"
      ]
    },
    {
      "cell_type": "code",
      "execution_count": null,
      "metadata": {
        "id": "3i1cl_phmj6_"
      },
      "outputs": [],
      "source": [
        "embedding_weight = np.load('/content/word2vec.model.wv.vectors.npy')\n",
        "aid_embedding = pd.DataFrame(embedding_weight, columns = ['featuress8_Embedding_' + str(x) for x in range(32)]).reset_index().rename(columns = {'index':'aid'})"
      ]
    },
    {
      "cell_type": "code",
      "execution_count": null,
      "metadata": {
        "id": "aiEnS7O9mm73"
      },
      "outputs": [],
      "source": [
        "for t in objects:\n",
        "  df_train_dict[t] = df_train_dict[t].merge(aid_embedding,how='left',left_on = ['recall_aids'] , right_on=['aid'])"
      ]
    },
    {
      "cell_type": "code",
      "source": [
        "last_click_embedding =  pd.DataFrame(embedding_weight, columns = ['featuress9_last_click_Embedding_' + str(x) for x in range(32)]).reset_index().rename(columns = {'index':'aid'})\n",
        "last_carts_embedding =  pd.DataFrame(embedding_weight, columns = ['featuress9_last_carts_Embedding_' + str(x) for x in range(32)]).reset_index().rename(columns = {'index':'aid'})\n",
        "last_orders_embedding =  pd.DataFrame(embedding_weight, columns = ['featuress9_last_orders_Embedding_' + str(x) for x in range(32)]).reset_index().rename(columns = {'index':'aid'})\n",
        "for t in objects:\n",
        "  df_train_dict[t] = df_train_dict[t].merge(last_click_embedding,how='left',left_on = ['last_clicks_3_aid'] , right_on=['aid'])\n",
        "  # df_train_dict[t] = df_train_dict[t].merge(last_carts_embedding,how='left',left_on = ['last_carts_1_aid'] , right_on=['aid'])\n",
        "  # df_train_dict[t] = df_train_dict[t].merge(last_orders_embedding,how='left',left_on = ['last_orders_1_aid'] , right_on=['aid'])"
      ],
      "metadata": {
        "id": "a3iG5EK-Mm9D"
      },
      "execution_count": null,
      "outputs": []
    },
    {
      "cell_type": "code",
      "execution_count": null,
      "metadata": {
        "id": "c_9iE5pCnGjR"
      },
      "outputs": [],
      "source": [
        "## 保存训练数据"
      ]
    },
    {
      "cell_type": "code",
      "source": [
        "for t in objects:\n",
        "  df_train_dict[t] = df_train_dict[t].drop(columns=['aid_x','aid_y','index_x','index_y','aid'])"
      ],
      "metadata": {
        "id": "T-CqSTTaOc_V"
      },
      "execution_count": null,
      "outputs": []
    },
    {
      "cell_type": "code",
      "execution_count": null,
      "metadata": {
        "id": "i76ydC5vnGla"
      },
      "outputs": [],
      "source": [
        "df_train_dict['clicks'].to_parquet('/content/drive/MyDrive/oto_recommend/process_data/train_data_clicks_v5.parquet')\n",
        "df_train_dict['carts'].to_parquet('/content/drive/MyDrive/oto_recommend/process_data/train_data_carts_v5.parquet')\n",
        "df_train_dict['orders'].to_parquet('/content/drive/MyDrive/oto_recommend/process_data/train_data_orders_v5.parquet')"
      ]
    },
    {
      "cell_type": "code",
      "execution_count": null,
      "metadata": {
        "id": "NZKigAdwp_8Q",
        "colab": {
          "base_uri": "https://localhost:8080/",
          "height": 487
        },
        "outputId": "59695b72-27de-4215-9ef0-98872f669764"
      },
      "outputs": [
        {
          "output_type": "execute_result",
          "data": {
            "text/plain": [
              "          session  recall_aids  hits_aids  label  rank  all_clicks_count  \\\n",
              "0        11098529      1105029  1105029.0      1     0             195.0   \n",
              "1        11098534       908024   908024.0      1     0            1086.0   \n",
              "2        11098535       745365   745365.0      1     0              59.0   \n",
              "3        11098537      1503532  1503532.0      1    32            1456.0   \n",
              "4        11098538      1452081  1452081.0      1    14            1085.0   \n",
              "...           ...          ...        ...    ...   ...               ...   \n",
              "3040534  12325228      1349119        NaN      0     9             936.0   \n",
              "3040535  12079983         8479        NaN      0    11             689.0   \n",
              "3040536  11849866       865135        NaN      0    31            1027.0   \n",
              "3040537  11451504       604085        NaN      0     0            4161.0   \n",
              "3040538  12435250      1389568        NaN      0    35            7731.0   \n",
              "\n",
              "         all_carts_count  all_orders_count  features2_clicks_0  \\\n",
              "0                    5.0               5.0                23.0   \n",
              "1                   17.0              17.0               211.0   \n",
              "2                    2.0               2.0                 6.0   \n",
              "3                  318.0             318.0               249.0   \n",
              "4                   61.0              61.0               136.0   \n",
              "...                  ...               ...                 ...   \n",
              "3040534             38.0              38.0               132.0   \n",
              "3040535            116.0             116.0               110.0   \n",
              "3040536            142.0             142.0               111.0   \n",
              "3040537            188.0             188.0               443.0   \n",
              "3040538            442.0             442.0              1162.0   \n",
              "\n",
              "         features2_clicks_1  ...  featuress9_last_click_Embedding_22  \\\n",
              "0                      23.0  ...                            0.396338   \n",
              "1                     118.0  ...                            0.269202   \n",
              "2                       9.0  ...                            0.591781   \n",
              "3                     218.0  ...                            0.767515   \n",
              "4                     150.0  ...                            0.640347   \n",
              "...                     ...  ...                                 ...   \n",
              "3040534               171.0  ...                            0.301156   \n",
              "3040535                94.0  ...                            0.128659   \n",
              "3040536               151.0  ...                            1.054251   \n",
              "3040537               504.0  ...                            0.328452   \n",
              "3040538              1180.0  ...                            0.483677   \n",
              "\n",
              "         featuress9_last_click_Embedding_23  \\\n",
              "0                                 -0.241744   \n",
              "1                                 -0.133638   \n",
              "2                                 -0.451523   \n",
              "3                                 -1.478991   \n",
              "4                                 -0.498484   \n",
              "...                                     ...   \n",
              "3040534                           -0.190866   \n",
              "3040535                           -0.013195   \n",
              "3040536                           -1.285135   \n",
              "3040537                            0.082732   \n",
              "3040538                           -0.348537   \n",
              "\n",
              "         featuress9_last_click_Embedding_24  \\\n",
              "0                                  0.085979   \n",
              "1                                 -0.113561   \n",
              "2                                  0.399852   \n",
              "3                                  0.219363   \n",
              "4                                  0.278461   \n",
              "...                                     ...   \n",
              "3040534                            0.158229   \n",
              "3040535                           -0.053778   \n",
              "3040536                           -0.218098   \n",
              "3040537                           -0.316664   \n",
              "3040538                            0.129445   \n",
              "\n",
              "         featuress9_last_click_Embedding_25  \\\n",
              "0                                 -0.098529   \n",
              "1                                 -0.072093   \n",
              "2                                 -0.107120   \n",
              "3                                 -0.069850   \n",
              "4                                  0.021448   \n",
              "...                                     ...   \n",
              "3040534                           -0.063146   \n",
              "3040535                           -0.082995   \n",
              "3040536                           -1.187781   \n",
              "3040537                           -0.488054   \n",
              "3040538                            0.068194   \n",
              "\n",
              "         featuress9_last_click_Embedding_26  \\\n",
              "0                                 -0.288573   \n",
              "1                                 -0.149152   \n",
              "2                                 -0.508324   \n",
              "3                                 -0.101981   \n",
              "4                                 -0.396591   \n",
              "...                                     ...   \n",
              "3040534                           -0.085625   \n",
              "3040535                           -0.213705   \n",
              "3040536                           -0.148343   \n",
              "3040537                           -0.860623   \n",
              "3040538                           -0.398947   \n",
              "\n",
              "         featuress9_last_click_Embedding_27  \\\n",
              "0                                  0.064683   \n",
              "1                                 -0.019875   \n",
              "2                                  0.364119   \n",
              "3                                  1.050852   \n",
              "4                                  0.330053   \n",
              "...                                     ...   \n",
              "3040534                            0.109423   \n",
              "3040535                            0.023291   \n",
              "3040536                           -0.052817   \n",
              "3040537                            0.146916   \n",
              "3040538                            0.093700   \n",
              "\n",
              "         featuress9_last_click_Embedding_28  \\\n",
              "0                                 -0.011770   \n",
              "1                                  0.021804   \n",
              "2                                 -0.144704   \n",
              "3                                 -0.659992   \n",
              "4                                 -0.190134   \n",
              "...                                     ...   \n",
              "3040534                            0.005426   \n",
              "3040535                            0.036499   \n",
              "3040536                            0.385011   \n",
              "3040537                            0.181655   \n",
              "3040538                            0.007190   \n",
              "\n",
              "         featuress9_last_click_Embedding_29  \\\n",
              "0                                 -0.100634   \n",
              "1                                 -0.014138   \n",
              "2                                  0.041103   \n",
              "3                                 -0.172946   \n",
              "4                                  0.319457   \n",
              "...                                     ...   \n",
              "3040534                           -0.149045   \n",
              "3040535                           -0.183359   \n",
              "3040536                           -1.490051   \n",
              "3040537                           -0.772222   \n",
              "3040538                           -0.299590   \n",
              "\n",
              "         featuress9_last_click_Embedding_30  \\\n",
              "0                                 -0.069559   \n",
              "1                                 -0.219288   \n",
              "2                                  0.014857   \n",
              "3                                 -0.776353   \n",
              "4                                 -0.139158   \n",
              "...                                     ...   \n",
              "3040534                           -0.064662   \n",
              "3040535                           -0.015874   \n",
              "3040536                           -2.891479   \n",
              "3040537                           -0.070572   \n",
              "3040538                           -0.343459   \n",
              "\n",
              "         featuress9_last_click_Embedding_31  \n",
              "0                                  0.112903  \n",
              "1                                 -0.122309  \n",
              "2                                  0.295920  \n",
              "3                                 -0.114598  \n",
              "4                                  0.017569  \n",
              "...                                     ...  \n",
              "3040534                            0.064503  \n",
              "3040535                            0.099328  \n",
              "3040536                            0.603718  \n",
              "3040537                           -0.405018  \n",
              "3040538                            0.457285  \n",
              "\n",
              "[3040539 rows x 189 columns]"
            ],
            "text/html": [
              "\n",
              "  <div id=\"df-7860fbb9-a27c-46bf-915e-38910adf1074\">\n",
              "    <div class=\"colab-df-container\">\n",
              "      <div>\n",
              "<style scoped>\n",
              "    .dataframe tbody tr th:only-of-type {\n",
              "        vertical-align: middle;\n",
              "    }\n",
              "\n",
              "    .dataframe tbody tr th {\n",
              "        vertical-align: top;\n",
              "    }\n",
              "\n",
              "    .dataframe thead th {\n",
              "        text-align: right;\n",
              "    }\n",
              "</style>\n",
              "<table border=\"1\" class=\"dataframe\">\n",
              "  <thead>\n",
              "    <tr style=\"text-align: right;\">\n",
              "      <th></th>\n",
              "      <th>session</th>\n",
              "      <th>recall_aids</th>\n",
              "      <th>hits_aids</th>\n",
              "      <th>label</th>\n",
              "      <th>rank</th>\n",
              "      <th>all_clicks_count</th>\n",
              "      <th>all_carts_count</th>\n",
              "      <th>all_orders_count</th>\n",
              "      <th>features2_clicks_0</th>\n",
              "      <th>features2_clicks_1</th>\n",
              "      <th>...</th>\n",
              "      <th>featuress9_last_click_Embedding_22</th>\n",
              "      <th>featuress9_last_click_Embedding_23</th>\n",
              "      <th>featuress9_last_click_Embedding_24</th>\n",
              "      <th>featuress9_last_click_Embedding_25</th>\n",
              "      <th>featuress9_last_click_Embedding_26</th>\n",
              "      <th>featuress9_last_click_Embedding_27</th>\n",
              "      <th>featuress9_last_click_Embedding_28</th>\n",
              "      <th>featuress9_last_click_Embedding_29</th>\n",
              "      <th>featuress9_last_click_Embedding_30</th>\n",
              "      <th>featuress9_last_click_Embedding_31</th>\n",
              "    </tr>\n",
              "  </thead>\n",
              "  <tbody>\n",
              "    <tr>\n",
              "      <th>0</th>\n",
              "      <td>11098529</td>\n",
              "      <td>1105029</td>\n",
              "      <td>1105029.0</td>\n",
              "      <td>1</td>\n",
              "      <td>0</td>\n",
              "      <td>195.0</td>\n",
              "      <td>5.0</td>\n",
              "      <td>5.0</td>\n",
              "      <td>23.0</td>\n",
              "      <td>23.0</td>\n",
              "      <td>...</td>\n",
              "      <td>0.396338</td>\n",
              "      <td>-0.241744</td>\n",
              "      <td>0.085979</td>\n",
              "      <td>-0.098529</td>\n",
              "      <td>-0.288573</td>\n",
              "      <td>0.064683</td>\n",
              "      <td>-0.011770</td>\n",
              "      <td>-0.100634</td>\n",
              "      <td>-0.069559</td>\n",
              "      <td>0.112903</td>\n",
              "    </tr>\n",
              "    <tr>\n",
              "      <th>1</th>\n",
              "      <td>11098534</td>\n",
              "      <td>908024</td>\n",
              "      <td>908024.0</td>\n",
              "      <td>1</td>\n",
              "      <td>0</td>\n",
              "      <td>1086.0</td>\n",
              "      <td>17.0</td>\n",
              "      <td>17.0</td>\n",
              "      <td>211.0</td>\n",
              "      <td>118.0</td>\n",
              "      <td>...</td>\n",
              "      <td>0.269202</td>\n",
              "      <td>-0.133638</td>\n",
              "      <td>-0.113561</td>\n",
              "      <td>-0.072093</td>\n",
              "      <td>-0.149152</td>\n",
              "      <td>-0.019875</td>\n",
              "      <td>0.021804</td>\n",
              "      <td>-0.014138</td>\n",
              "      <td>-0.219288</td>\n",
              "      <td>-0.122309</td>\n",
              "    </tr>\n",
              "    <tr>\n",
              "      <th>2</th>\n",
              "      <td>11098535</td>\n",
              "      <td>745365</td>\n",
              "      <td>745365.0</td>\n",
              "      <td>1</td>\n",
              "      <td>0</td>\n",
              "      <td>59.0</td>\n",
              "      <td>2.0</td>\n",
              "      <td>2.0</td>\n",
              "      <td>6.0</td>\n",
              "      <td>9.0</td>\n",
              "      <td>...</td>\n",
              "      <td>0.591781</td>\n",
              "      <td>-0.451523</td>\n",
              "      <td>0.399852</td>\n",
              "      <td>-0.107120</td>\n",
              "      <td>-0.508324</td>\n",
              "      <td>0.364119</td>\n",
              "      <td>-0.144704</td>\n",
              "      <td>0.041103</td>\n",
              "      <td>0.014857</td>\n",
              "      <td>0.295920</td>\n",
              "    </tr>\n",
              "    <tr>\n",
              "      <th>3</th>\n",
              "      <td>11098537</td>\n",
              "      <td>1503532</td>\n",
              "      <td>1503532.0</td>\n",
              "      <td>1</td>\n",
              "      <td>32</td>\n",
              "      <td>1456.0</td>\n",
              "      <td>318.0</td>\n",
              "      <td>318.0</td>\n",
              "      <td>249.0</td>\n",
              "      <td>218.0</td>\n",
              "      <td>...</td>\n",
              "      <td>0.767515</td>\n",
              "      <td>-1.478991</td>\n",
              "      <td>0.219363</td>\n",
              "      <td>-0.069850</td>\n",
              "      <td>-0.101981</td>\n",
              "      <td>1.050852</td>\n",
              "      <td>-0.659992</td>\n",
              "      <td>-0.172946</td>\n",
              "      <td>-0.776353</td>\n",
              "      <td>-0.114598</td>\n",
              "    </tr>\n",
              "    <tr>\n",
              "      <th>4</th>\n",
              "      <td>11098538</td>\n",
              "      <td>1452081</td>\n",
              "      <td>1452081.0</td>\n",
              "      <td>1</td>\n",
              "      <td>14</td>\n",
              "      <td>1085.0</td>\n",
              "      <td>61.0</td>\n",
              "      <td>61.0</td>\n",
              "      <td>136.0</td>\n",
              "      <td>150.0</td>\n",
              "      <td>...</td>\n",
              "      <td>0.640347</td>\n",
              "      <td>-0.498484</td>\n",
              "      <td>0.278461</td>\n",
              "      <td>0.021448</td>\n",
              "      <td>-0.396591</td>\n",
              "      <td>0.330053</td>\n",
              "      <td>-0.190134</td>\n",
              "      <td>0.319457</td>\n",
              "      <td>-0.139158</td>\n",
              "      <td>0.017569</td>\n",
              "    </tr>\n",
              "    <tr>\n",
              "      <th>...</th>\n",
              "      <td>...</td>\n",
              "      <td>...</td>\n",
              "      <td>...</td>\n",
              "      <td>...</td>\n",
              "      <td>...</td>\n",
              "      <td>...</td>\n",
              "      <td>...</td>\n",
              "      <td>...</td>\n",
              "      <td>...</td>\n",
              "      <td>...</td>\n",
              "      <td>...</td>\n",
              "      <td>...</td>\n",
              "      <td>...</td>\n",
              "      <td>...</td>\n",
              "      <td>...</td>\n",
              "      <td>...</td>\n",
              "      <td>...</td>\n",
              "      <td>...</td>\n",
              "      <td>...</td>\n",
              "      <td>...</td>\n",
              "      <td>...</td>\n",
              "    </tr>\n",
              "    <tr>\n",
              "      <th>3040534</th>\n",
              "      <td>12325228</td>\n",
              "      <td>1349119</td>\n",
              "      <td>NaN</td>\n",
              "      <td>0</td>\n",
              "      <td>9</td>\n",
              "      <td>936.0</td>\n",
              "      <td>38.0</td>\n",
              "      <td>38.0</td>\n",
              "      <td>132.0</td>\n",
              "      <td>171.0</td>\n",
              "      <td>...</td>\n",
              "      <td>0.301156</td>\n",
              "      <td>-0.190866</td>\n",
              "      <td>0.158229</td>\n",
              "      <td>-0.063146</td>\n",
              "      <td>-0.085625</td>\n",
              "      <td>0.109423</td>\n",
              "      <td>0.005426</td>\n",
              "      <td>-0.149045</td>\n",
              "      <td>-0.064662</td>\n",
              "      <td>0.064503</td>\n",
              "    </tr>\n",
              "    <tr>\n",
              "      <th>3040535</th>\n",
              "      <td>12079983</td>\n",
              "      <td>8479</td>\n",
              "      <td>NaN</td>\n",
              "      <td>0</td>\n",
              "      <td>11</td>\n",
              "      <td>689.0</td>\n",
              "      <td>116.0</td>\n",
              "      <td>116.0</td>\n",
              "      <td>110.0</td>\n",
              "      <td>94.0</td>\n",
              "      <td>...</td>\n",
              "      <td>0.128659</td>\n",
              "      <td>-0.013195</td>\n",
              "      <td>-0.053778</td>\n",
              "      <td>-0.082995</td>\n",
              "      <td>-0.213705</td>\n",
              "      <td>0.023291</td>\n",
              "      <td>0.036499</td>\n",
              "      <td>-0.183359</td>\n",
              "      <td>-0.015874</td>\n",
              "      <td>0.099328</td>\n",
              "    </tr>\n",
              "    <tr>\n",
              "      <th>3040536</th>\n",
              "      <td>11849866</td>\n",
              "      <td>865135</td>\n",
              "      <td>NaN</td>\n",
              "      <td>0</td>\n",
              "      <td>31</td>\n",
              "      <td>1027.0</td>\n",
              "      <td>142.0</td>\n",
              "      <td>142.0</td>\n",
              "      <td>111.0</td>\n",
              "      <td>151.0</td>\n",
              "      <td>...</td>\n",
              "      <td>1.054251</td>\n",
              "      <td>-1.285135</td>\n",
              "      <td>-0.218098</td>\n",
              "      <td>-1.187781</td>\n",
              "      <td>-0.148343</td>\n",
              "      <td>-0.052817</td>\n",
              "      <td>0.385011</td>\n",
              "      <td>-1.490051</td>\n",
              "      <td>-2.891479</td>\n",
              "      <td>0.603718</td>\n",
              "    </tr>\n",
              "    <tr>\n",
              "      <th>3040537</th>\n",
              "      <td>11451504</td>\n",
              "      <td>604085</td>\n",
              "      <td>NaN</td>\n",
              "      <td>0</td>\n",
              "      <td>0</td>\n",
              "      <td>4161.0</td>\n",
              "      <td>188.0</td>\n",
              "      <td>188.0</td>\n",
              "      <td>443.0</td>\n",
              "      <td>504.0</td>\n",
              "      <td>...</td>\n",
              "      <td>0.328452</td>\n",
              "      <td>0.082732</td>\n",
              "      <td>-0.316664</td>\n",
              "      <td>-0.488054</td>\n",
              "      <td>-0.860623</td>\n",
              "      <td>0.146916</td>\n",
              "      <td>0.181655</td>\n",
              "      <td>-0.772222</td>\n",
              "      <td>-0.070572</td>\n",
              "      <td>-0.405018</td>\n",
              "    </tr>\n",
              "    <tr>\n",
              "      <th>3040538</th>\n",
              "      <td>12435250</td>\n",
              "      <td>1389568</td>\n",
              "      <td>NaN</td>\n",
              "      <td>0</td>\n",
              "      <td>35</td>\n",
              "      <td>7731.0</td>\n",
              "      <td>442.0</td>\n",
              "      <td>442.0</td>\n",
              "      <td>1162.0</td>\n",
              "      <td>1180.0</td>\n",
              "      <td>...</td>\n",
              "      <td>0.483677</td>\n",
              "      <td>-0.348537</td>\n",
              "      <td>0.129445</td>\n",
              "      <td>0.068194</td>\n",
              "      <td>-0.398947</td>\n",
              "      <td>0.093700</td>\n",
              "      <td>0.007190</td>\n",
              "      <td>-0.299590</td>\n",
              "      <td>-0.343459</td>\n",
              "      <td>0.457285</td>\n",
              "    </tr>\n",
              "  </tbody>\n",
              "</table>\n",
              "<p>3040539 rows × 189 columns</p>\n",
              "</div>\n",
              "      <button class=\"colab-df-convert\" onclick=\"convertToInteractive('df-7860fbb9-a27c-46bf-915e-38910adf1074')\"\n",
              "              title=\"Convert this dataframe to an interactive table.\"\n",
              "              style=\"display:none;\">\n",
              "        \n",
              "  <svg xmlns=\"http://www.w3.org/2000/svg\" height=\"24px\"viewBox=\"0 0 24 24\"\n",
              "       width=\"24px\">\n",
              "    <path d=\"M0 0h24v24H0V0z\" fill=\"none\"/>\n",
              "    <path d=\"M18.56 5.44l.94 2.06.94-2.06 2.06-.94-2.06-.94-.94-2.06-.94 2.06-2.06.94zm-11 1L8.5 8.5l.94-2.06 2.06-.94-2.06-.94L8.5 2.5l-.94 2.06-2.06.94zm10 10l.94 2.06.94-2.06 2.06-.94-2.06-.94-.94-2.06-.94 2.06-2.06.94z\"/><path d=\"M17.41 7.96l-1.37-1.37c-.4-.4-.92-.59-1.43-.59-.52 0-1.04.2-1.43.59L10.3 9.45l-7.72 7.72c-.78.78-.78 2.05 0 2.83L4 21.41c.39.39.9.59 1.41.59.51 0 1.02-.2 1.41-.59l7.78-7.78 2.81-2.81c.8-.78.8-2.07 0-2.86zM5.41 20L4 18.59l7.72-7.72 1.47 1.35L5.41 20z\"/>\n",
              "  </svg>\n",
              "      </button>\n",
              "      \n",
              "  <style>\n",
              "    .colab-df-container {\n",
              "      display:flex;\n",
              "      flex-wrap:wrap;\n",
              "      gap: 12px;\n",
              "    }\n",
              "\n",
              "    .colab-df-convert {\n",
              "      background-color: #E8F0FE;\n",
              "      border: none;\n",
              "      border-radius: 50%;\n",
              "      cursor: pointer;\n",
              "      display: none;\n",
              "      fill: #1967D2;\n",
              "      height: 32px;\n",
              "      padding: 0 0 0 0;\n",
              "      width: 32px;\n",
              "    }\n",
              "\n",
              "    .colab-df-convert:hover {\n",
              "      background-color: #E2EBFA;\n",
              "      box-shadow: 0px 1px 2px rgba(60, 64, 67, 0.3), 0px 1px 3px 1px rgba(60, 64, 67, 0.15);\n",
              "      fill: #174EA6;\n",
              "    }\n",
              "\n",
              "    [theme=dark] .colab-df-convert {\n",
              "      background-color: #3B4455;\n",
              "      fill: #D2E3FC;\n",
              "    }\n",
              "\n",
              "    [theme=dark] .colab-df-convert:hover {\n",
              "      background-color: #434B5C;\n",
              "      box-shadow: 0px 1px 3px 1px rgba(0, 0, 0, 0.15);\n",
              "      filter: drop-shadow(0px 1px 2px rgba(0, 0, 0, 0.3));\n",
              "      fill: #FFFFFF;\n",
              "    }\n",
              "  </style>\n",
              "\n",
              "      <script>\n",
              "        const buttonEl =\n",
              "          document.querySelector('#df-7860fbb9-a27c-46bf-915e-38910adf1074 button.colab-df-convert');\n",
              "        buttonEl.style.display =\n",
              "          google.colab.kernel.accessAllowed ? 'block' : 'none';\n",
              "\n",
              "        async function convertToInteractive(key) {\n",
              "          const element = document.querySelector('#df-7860fbb9-a27c-46bf-915e-38910adf1074');\n",
              "          const dataTable =\n",
              "            await google.colab.kernel.invokeFunction('convertToInteractive',\n",
              "                                                     [key], {});\n",
              "          if (!dataTable) return;\n",
              "\n",
              "          const docLinkHtml = 'Like what you see? Visit the ' +\n",
              "            '<a target=\"_blank\" href=https://colab.research.google.com/notebooks/data_table.ipynb>data table notebook</a>'\n",
              "            + ' to learn more about interactive tables.';\n",
              "          element.innerHTML = '';\n",
              "          dataTable['output_type'] = 'display_data';\n",
              "          await google.colab.output.renderOutput(dataTable, element);\n",
              "          const docLink = document.createElement('div');\n",
              "          docLink.innerHTML = docLinkHtml;\n",
              "          element.appendChild(docLink);\n",
              "        }\n",
              "      </script>\n",
              "    </div>\n",
              "  </div>\n",
              "  "
            ]
          },
          "metadata": {},
          "execution_count": 56
        }
      ],
      "source": [
        "df_train_dict['clicks']"
      ]
    },
    {
      "cell_type": "code",
      "execution_count": null,
      "metadata": {
        "id": "g46Ic-ttraLT"
      },
      "outputs": [],
      "source": []
    }
  ],
  "metadata": {
    "colab": {
      "machine_shape": "hm",
      "provenance": []
    },
    "gpuClass": "standard",
    "kernelspec": {
      "display_name": "Python 3",
      "name": "python3"
    },
    "language_info": {
      "name": "python"
    }
  },
  "nbformat": 4,
  "nbformat_minor": 0
}