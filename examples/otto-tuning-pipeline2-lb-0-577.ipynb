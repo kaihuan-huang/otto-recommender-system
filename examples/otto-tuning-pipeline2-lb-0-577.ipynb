{
 "cells": [
  {
   "cell_type": "code",
   "execution_count": 1,
   "id": "e229e602",
   "metadata": {
    "execution": {
     "iopub.execute_input": "2023-01-21T06:39:50.801439Z",
     "iopub.status.busy": "2023-01-21T06:39:50.800519Z",
     "iopub.status.idle": "2023-01-21T06:39:50.811901Z",
     "shell.execute_reply": "2023-01-21T06:39:50.811030Z"
    },
    "papermill": {
     "duration": 0.019522,
     "end_time": "2023-01-21T06:39:50.814033",
     "exception": false,
     "start_time": "2023-01-21T06:39:50.794511",
     "status": "completed"
    },
    "tags": []
   },
   "outputs": [],
   "source": [
    "# Balance of type weighting タイプごとの重み付けバランス\n",
    "# 0:clicks 1:carts 2:orders\n",
    "type_weight = {0:0.5,\n",
    "               1:9,\n",
    "               2:0.5}\n",
    "type_weight_multipliers = type_weight\n",
    "\n",
    "# Use top X for clicks, carts and orders Top何位までを使うか\n",
    "clicks_th = 60 # クリック数\n",
    "carts_th  = 60 # カート数\n",
    "orders_th = 60 # 購入数\n",
    "\n",
    "VER = 7"
   ]
  },
  {
   "cell_type": "code",
   "execution_count": 2,
   "id": "b7b821dc",
   "metadata": {
    "execution": {
     "iopub.execute_input": "2023-01-21T06:39:50.821686Z",
     "iopub.status.busy": "2023-01-21T06:39:50.821399Z",
     "iopub.status.idle": "2023-01-21T06:39:53.440157Z",
     "shell.execute_reply": "2023-01-21T06:39:53.439122Z"
    },
    "papermill": {
     "duration": 2.625932,
     "end_time": "2023-01-21T06:39:53.443151",
     "exception": false,
     "start_time": "2023-01-21T06:39:50.817219",
     "status": "completed"
    },
    "tags": []
   },
   "outputs": [
    {
     "name": "stdout",
     "output_type": "stream",
     "text": [
      "We will use RAPIDS version 21.10.01\n"
     ]
    }
   ],
   "source": [
    "import pandas as pd, numpy as np\n",
    "from tqdm.notebook import tqdm\n",
    "import os, sys, pickle, glob, gc\n",
    "from collections import Counter\n",
    "import cudf, itertools\n",
    "print('We will use RAPIDS version',cudf.__version__)"
   ]
  },
  {
   "cell_type": "code",
   "execution_count": 3,
   "id": "52f7470c",
   "metadata": {
    "execution": {
     "iopub.execute_input": "2023-01-21T06:39:53.452004Z",
     "iopub.status.busy": "2023-01-21T06:39:53.450438Z",
     "iopub.status.idle": "2023-01-21T06:40:35.034861Z",
     "shell.execute_reply": "2023-01-21T06:40:35.033379Z"
    },
    "papermill": {
     "duration": 41.593768,
     "end_time": "2023-01-21T06:40:35.040049",
     "exception": false,
     "start_time": "2023-01-21T06:39:53.446281",
     "status": "completed"
    },
    "tags": []
   },
   "outputs": [
    {
     "name": "stdout",
     "output_type": "stream",
     "text": [
      "We will process 120 files, in groups of 5 and chunks of 20.\n",
      "CPU times: user 31.2 s, sys: 4.81 s, total: 36 s\n",
      "Wall time: 41.6 s\n"
     ]
    }
   ],
   "source": [
    "%%time\n",
    "# CACHE FUNCTIONS\n",
    "def read_file(f):\n",
    "    return cudf.DataFrame( data_cache[f] )\n",
    "def read_file_to_cache(f):\n",
    "    df = pd.read_parquet(f)\n",
    "    df.ts = (df.ts/1000).astype('int32')\n",
    "    df['type'] = df['type'].map(type_labels).astype('int8')\n",
    "    return df\n",
    "\n",
    "# CACHE THE DATA ON CPU BEFORE PROCESSING ON GPU\n",
    "data_cache = {}\n",
    "type_labels = {'clicks':0, 'carts':1, 'orders':2}\n",
    "# files = glob.glob('/kaggle/input/otto-chunk-data-inparquet-format/*_parquet/*')\n",
    "files = glob.glob('/kaggle/input/otto-validation/*_parquet/*')\n",
    "for f in files: data_cache[f] = read_file_to_cache(f)\n",
    "\n",
    "# CHUNK PARAMETERS\n",
    "READ_CT = 5\n",
    "CHUNK = int( np.ceil( len(files)/6 ))\n",
    "print(f'We will process {len(files)} files, in groups of {READ_CT} and chunks of {CHUNK}.')"
   ]
  },
  {
   "cell_type": "markdown",
   "id": "b0a83ad4",
   "metadata": {
    "papermill": {
     "duration": 0.002669,
     "end_time": "2023-01-21T06:40:35.045799",
     "exception": false,
     "start_time": "2023-01-21T06:40:35.043130",
     "status": "completed"
    },
    "tags": []
   },
   "source": [
    "## 1) \"Carts Orders\" Co-visitation Matrix - Type Weighted"
   ]
  },
  {
   "cell_type": "code",
   "execution_count": 4,
   "id": "6d974c7d",
   "metadata": {
    "execution": {
     "iopub.execute_input": "2023-01-21T06:40:35.052878Z",
     "iopub.status.busy": "2023-01-21T06:40:35.052544Z",
     "iopub.status.idle": "2023-01-21T06:42:53.329482Z",
     "shell.execute_reply": "2023-01-21T06:42:53.327211Z"
    },
    "papermill": {
     "duration": 138.283584,
     "end_time": "2023-01-21T06:42:53.332233",
     "exception": false,
     "start_time": "2023-01-21T06:40:35.048649",
     "status": "completed"
    },
    "tags": []
   },
   "outputs": [
    {
     "name": "stdout",
     "output_type": "stream",
     "text": [
      "\n",
      "### DISK PART 1\n",
      "Processing files 0 thru 19 in groups of 5...\n"
     ]
    },
    {
     "name": "stderr",
     "output_type": "stream",
     "text": [
      "/opt/conda/lib/python3.7/site-packages/cudf/core/frame.py:2600: UserWarning: When using a sequence of booleans for `ascending`, `na_position` flag is not yet supported and defaults to treating nulls as greater than all numbers\n",
      "  \"When using a sequence of booleans for `ascending`, \"\n"
     ]
    },
    {
     "name": "stdout",
     "output_type": "stream",
     "text": [
      "0 , 5 , 10 , 15 , \n",
      "Processing files 20 thru 39 in groups of 5...\n",
      "20 , 25 , 30 , 35 , \n",
      "Processing files 40 thru 59 in groups of 5...\n",
      "40 , 45 , 50 , 55 , \n",
      "Processing files 60 thru 79 in groups of 5...\n",
      "60 , 65 , 70 , 75 , \n",
      "Processing files 80 thru 99 in groups of 5...\n",
      "80 , 85 , 90 , 95 , \n",
      "Processing files 100 thru 119 in groups of 5...\n",
      "100 , 105 , 110 , 115 , \n",
      "\n",
      "### DISK PART 2\n",
      "Processing files 0 thru 19 in groups of 5...\n",
      "0 , 5 , 10 , 15 , \n",
      "Processing files 20 thru 39 in groups of 5...\n",
      "20 , 25 , 30 , 35 , \n",
      "Processing files 40 thru 59 in groups of 5...\n",
      "40 , 45 , 50 , 55 , \n",
      "Processing files 60 thru 79 in groups of 5...\n",
      "60 , 65 , 70 , 75 , \n",
      "Processing files 80 thru 99 in groups of 5...\n",
      "80 , 85 , 90 , 95 , \n",
      "Processing files 100 thru 119 in groups of 5...\n",
      "100 , 105 , 110 , 115 , \n",
      "\n",
      "### DISK PART 3\n",
      "Processing files 0 thru 19 in groups of 5...\n",
      "0 , 5 , 10 , 15 , \n",
      "Processing files 20 thru 39 in groups of 5...\n",
      "20 , 25 , 30 , 35 , \n",
      "Processing files 40 thru 59 in groups of 5...\n",
      "40 , 45 , 50 , 55 , \n",
      "Processing files 60 thru 79 in groups of 5...\n",
      "60 , 65 , 70 , 75 , \n",
      "Processing files 80 thru 99 in groups of 5...\n",
      "80 , 85 , 90 , 95 , \n",
      "Processing files 100 thru 119 in groups of 5...\n",
      "100 , 105 , 110 , 115 , \n",
      "\n",
      "### DISK PART 4\n",
      "Processing files 0 thru 19 in groups of 5...\n",
      "0 , 5 , 10 , 15 , \n",
      "Processing files 20 thru 39 in groups of 5...\n",
      "20 , 25 , 30 , 35 , \n",
      "Processing files 40 thru 59 in groups of 5...\n",
      "40 , 45 , 50 , 55 , \n",
      "Processing files 60 thru 79 in groups of 5...\n",
      "60 , 65 , 70 , 75 , \n",
      "Processing files 80 thru 99 in groups of 5...\n",
      "80 , 85 , 90 , 95 , \n",
      "Processing files 100 thru 119 in groups of 5...\n",
      "100 , 105 , 110 , 115 , \n",
      "CPU times: user 1min 29s, sys: 46.9 s, total: 2min 16s\n",
      "Wall time: 2min 18s\n"
     ]
    }
   ],
   "source": [
    "%%time\n",
    "\n",
    "# USE SMALLEST DISK_PIECES POSSIBLE WITHOUT MEMORY ERROR\n",
    "DISK_PIECES = 4\n",
    "SIZE = 1.86e6/DISK_PIECES\n",
    "\n",
    "# COMPUTE IN PARTS FOR MEMORY MANGEMENT\n",
    "for PART in range(DISK_PIECES):\n",
    "    print()\n",
    "    print('### DISK PART',PART+1)\n",
    "    \n",
    "    # MERGE IS FASTEST PROCESSING CHUNKS WITHIN CHUNKS\n",
    "    # => OUTER CHUNKS\n",
    "    for j in range(6):\n",
    "        a = j*CHUNK\n",
    "        b = min( (j+1)*CHUNK, len(files) )\n",
    "        print(f'Processing files {a} thru {b-1} in groups of {READ_CT}...')\n",
    "        \n",
    "        # => INNER CHUNKS\n",
    "        for k in range(a,b,READ_CT):\n",
    "            # READ FILE\n",
    "            df = [read_file(files[k])]\n",
    "            for i in range(1,READ_CT): \n",
    "                if k+i<b: df.append( read_file(files[k+i]) )\n",
    "            df = cudf.concat(df,ignore_index=True,axis=0)\n",
    "            df = df.sort_values(['session','ts'],ascending=[True,False])\n",
    "            \n",
    "            # USE TAIL OF SESSION\n",
    "            df = df.reset_index(drop=True)\n",
    "            df['n'] = df.groupby('session').cumcount()\n",
    "            df = df.loc[df.n<30].drop('n',axis=1)\n",
    "            \n",
    "            # CREATE PAIRS\n",
    "            df = df.merge(df,on='session')\n",
    "            df = df.loc[ ((df.ts_x - df.ts_y).abs()< 24 * 60 * 60) & (df.aid_x != df.aid_y) ]\n",
    "            \n",
    "            # MEMORY MANAGEMENT COMPUTE IN PARTS\n",
    "            df = df.loc[(df.aid_x >= PART*SIZE)&(df.aid_x < (PART+1)*SIZE)]\n",
    "            \n",
    "            # ASSIGN WEIGHTS\n",
    "            df = df[['session', 'aid_x', 'aid_y','type_y']].drop_duplicates(['session', 'aid_x', 'aid_y', 'type_y'])\n",
    "            df['wgt'] = df.type_y.map(type_weight)\n",
    "            df = df[['aid_x','aid_y','wgt']]\n",
    "            df.wgt = df.wgt.astype('float32')\n",
    "            df = df.groupby(['aid_x','aid_y']).wgt.sum()\n",
    "            \n",
    "            # COMBINE INNER CHUNKS\n",
    "            if k==a: tmp2 = df\n",
    "            else: tmp2 = tmp2.add(df, fill_value=0)\n",
    "            print(k,', ',end='')\n",
    "        \n",
    "        print()\n",
    "        \n",
    "        # COMBINE OUTER CHUNKS\n",
    "        if a==0: tmp = tmp2\n",
    "        else: tmp = tmp.add(tmp2, fill_value=0)\n",
    "        del tmp2, df\n",
    "        gc.collect()\n",
    "\n",
    "    # CONVERT MATRIX TO DICTIONARY\n",
    "    tmp = tmp.reset_index()\n",
    "    tmp = tmp.sort_values(['aid_x','wgt'],ascending=[True,False])\n",
    "    # SAVE TOP 40\n",
    "    tmp = tmp.reset_index(drop=True)\n",
    "    tmp['n'] = tmp.groupby('aid_x').aid_y.cumcount()\n",
    "    tmp = tmp.loc[tmp.n<carts_th].drop('n',axis=1)\n",
    "    \n",
    "    # SAVE PART TO DISK (convert to pandas first uses less memory)\n",
    "    tmp.to_pandas().to_parquet(f'top_60_carts_orders_fortrain_v{VER}_{PART}.pqt')"
   ]
  },
  {
   "cell_type": "markdown",
   "id": "da4c5aa3",
   "metadata": {
    "papermill": {
     "duration": 0.008431,
     "end_time": "2023-01-21T06:42:53.350100",
     "exception": false,
     "start_time": "2023-01-21T06:42:53.341669",
     "status": "completed"
    },
    "tags": []
   },
   "source": [
    "## 2) \"Buy2Buy\" Co-visitation Matrix"
   ]
  },
  {
   "cell_type": "code",
   "execution_count": 5,
   "id": "f4692d60",
   "metadata": {
    "execution": {
     "iopub.execute_input": "2023-01-21T06:42:53.369952Z",
     "iopub.status.busy": "2023-01-21T06:42:53.369593Z",
     "iopub.status.idle": "2023-01-21T06:43:13.793212Z",
     "shell.execute_reply": "2023-01-21T06:43:13.792037Z"
    },
    "papermill": {
     "duration": 20.435479,
     "end_time": "2023-01-21T06:43:13.795257",
     "exception": false,
     "start_time": "2023-01-21T06:42:53.359778",
     "status": "completed"
    },
    "tags": []
   },
   "outputs": [
    {
     "name": "stdout",
     "output_type": "stream",
     "text": [
      "\n",
      "### DISK PART 1\n",
      "Processing files 0 thru 19 in groups of 5...\n",
      "0 , 5 , "
     ]
    },
    {
     "name": "stderr",
     "output_type": "stream",
     "text": [
      "/opt/conda/lib/python3.7/site-packages/cudf/core/frame.py:2600: UserWarning: When using a sequence of booleans for `ascending`, `na_position` flag is not yet supported and defaults to treating nulls as greater than all numbers\n",
      "  \"When using a sequence of booleans for `ascending`, \"\n"
     ]
    },
    {
     "name": "stdout",
     "output_type": "stream",
     "text": [
      "10 , 15 , \n",
      "Processing files 20 thru 39 in groups of 5...\n",
      "20 , 25 , 30 , 35 , \n",
      "Processing files 40 thru 59 in groups of 5...\n",
      "40 , 45 , 50 , 55 , \n",
      "Processing files 60 thru 79 in groups of 5...\n",
      "60 , 65 , 70 , 75 , \n",
      "Processing files 80 thru 99 in groups of 5...\n",
      "80 , 85 , 90 , 95 , \n",
      "Processing files 100 thru 119 in groups of 5...\n",
      "100 , 105 , 110 , 115 , \n",
      "CPU times: user 14.3 s, sys: 5.69 s, total: 20 s\n",
      "Wall time: 20.4 s\n"
     ]
    }
   ],
   "source": [
    "%%time\n",
    "# USE SMALLEST DISK_PIECES POSSIBLE WITHOUT MEMORY ERROR\n",
    "DISK_PIECES = 1\n",
    "SIZE = 1.86e6/DISK_PIECES\n",
    "\n",
    "# COMPUTE IN PARTS FOR MEMORY MANGEMENT\n",
    "for PART in range(DISK_PIECES):\n",
    "    print()\n",
    "    print('### DISK PART',PART+1)\n",
    "    \n",
    "    # MERGE IS FASTEST PROCESSING CHUNKS WITHIN CHUNKS\n",
    "    # => OUTER CHUNKS\n",
    "    for j in range(6):\n",
    "        a = j*CHUNK\n",
    "        b = min( (j+1)*CHUNK, len(files) )\n",
    "        print(f'Processing files {a} thru {b-1} in groups of {READ_CT}...')\n",
    "        \n",
    "        # => INNER CHUNKS\n",
    "        for k in range(a,b,READ_CT):\n",
    "            \n",
    "            # READ FILE\n",
    "            df = [read_file(files[k])]\n",
    "            for i in range(1,READ_CT): \n",
    "                if k+i<b: df.append( read_file(files[k+i]) )\n",
    "            df = cudf.concat(df,ignore_index=True,axis=0)\n",
    "            df = df.loc[df['type'].isin([1,2])] # ONLY WANT CARTS AND ORDERS\n",
    "            df = df.sort_values(['session','ts'],ascending=[True,False])\n",
    "            \n",
    "            # USE TAIL OF SESSION\n",
    "            df = df.reset_index(drop=True)\n",
    "            df['n'] = df.groupby('session').cumcount()\n",
    "            df = df.loc[df.n<30].drop('n',axis=1)\n",
    "            \n",
    "            # CREATE PAIRS\n",
    "            df = df.merge(df,on='session')\n",
    "            df = df.loc[ ((df.ts_x - df.ts_y).abs()< 14 * 24 * 60 * 60) & (df.aid_x != df.aid_y) ] # 14 DAYS\n",
    "            \n",
    "            # MEMORY MANAGEMENT COMPUTE IN PARTS\n",
    "            df = df.loc[(df.aid_x >= PART*SIZE)&(df.aid_x < (PART+1)*SIZE)]\n",
    "            \n",
    "            # ASSIGN WEIGHTS\n",
    "            df = df[['session', 'aid_x', 'aid_y','type_y']].drop_duplicates(['session', 'aid_x', 'aid_y', 'type_y'])\n",
    "            df['wgt'] = 1\n",
    "            df = df[['aid_x','aid_y','wgt']]\n",
    "            df.wgt = df.wgt.astype('float32')\n",
    "            df = df.groupby(['aid_x','aid_y']).wgt.sum()\n",
    "            \n",
    "            # COMBINE INNER CHUNKS\n",
    "            if k==a: tmp2 = df\n",
    "            else: tmp2 = tmp2.add(df, fill_value=0)\n",
    "            print(k,', ',end='')\n",
    "\n",
    "        print()\n",
    "        \n",
    "        # COMBINE OUTER CHUNKS\n",
    "        if a==0: tmp = tmp2\n",
    "        else: tmp = tmp.add(tmp2, fill_value=0)\n",
    "        del tmp2, df\n",
    "        gc.collect()\n",
    "\n",
    "    # CONVERT MATRIX TO DICTIONARY\n",
    "    tmp = tmp.reset_index()\n",
    "    tmp = tmp.sort_values(['aid_x','wgt'],ascending=[True,False])\n",
    "    \n",
    "    # SAVE TOP 40\n",
    "    tmp = tmp.reset_index(drop=True)\n",
    "    tmp['n'] = tmp.groupby('aid_x').aid_y.cumcount()\n",
    "    tmp = tmp.loc[tmp.n<orders_th].drop('n',axis=1)\n",
    "    \n",
    "    # SAVE PART TO DISK (convert to pandas first uses less memory)\n",
    "    tmp.to_pandas().to_parquet(f'top_60_buy2buy_fortrain_v{VER}_{PART}.pqt')"
   ]
  },
  {
   "cell_type": "markdown",
   "id": "15fc7930",
   "metadata": {
    "papermill": {
     "duration": 0.009808,
     "end_time": "2023-01-21T06:43:13.815373",
     "exception": false,
     "start_time": "2023-01-21T06:43:13.805565",
     "status": "completed"
    },
    "tags": []
   },
   "source": [
    "## 3) \"Clicks\" Co-visitation Matrix - Time Weighted"
   ]
  },
  {
   "cell_type": "code",
   "execution_count": 6,
   "id": "9afba5ca",
   "metadata": {
    "execution": {
     "iopub.execute_input": "2023-01-21T06:43:13.837382Z",
     "iopub.status.busy": "2023-01-21T06:43:13.835902Z",
     "iopub.status.idle": "2023-01-21T06:45:26.876173Z",
     "shell.execute_reply": "2023-01-21T06:45:26.875138Z"
    },
    "papermill": {
     "duration": 133.068961,
     "end_time": "2023-01-21T06:45:26.894078",
     "exception": false,
     "start_time": "2023-01-21T06:43:13.825117",
     "status": "completed"
    },
    "tags": []
   },
   "outputs": [
    {
     "name": "stdout",
     "output_type": "stream",
     "text": [
      "\n",
      "### DISK PART 1\n",
      "Processing files 0 thru 19 in groups of 5...\n",
      "0 , 5 , 10 , 15 , \n",
      "Processing files 20 thru 39 in groups of 5...\n",
      "20 , 25 , 30 , 35 , \n",
      "Processing files 40 thru 59 in groups of 5...\n",
      "40 , 45 , 50 , 55 , \n",
      "Processing files 60 thru 79 in groups of 5...\n",
      "60 , 65 , 70 , 75 , \n",
      "Processing files 80 thru 99 in groups of 5...\n",
      "80 , 85 , 90 , 95 , \n",
      "Processing files 100 thru 119 in groups of 5...\n",
      "100 , 105 , 110 , 115 , \n",
      "\n",
      "### DISK PART 2\n",
      "Processing files 0 thru 19 in groups of 5...\n",
      "0 , 5 , 10 , 15 , \n",
      "Processing files 20 thru 39 in groups of 5...\n",
      "20 , 25 , 30 , 35 , \n",
      "Processing files 40 thru 59 in groups of 5...\n",
      "40 , 45 , 50 , 55 , \n",
      "Processing files 60 thru 79 in groups of 5...\n",
      "60 , 65 , 70 , 75 , \n",
      "Processing files 80 thru 99 in groups of 5...\n",
      "80 , 85 , 90 , 95 , \n",
      "Processing files 100 thru 119 in groups of 5...\n",
      "100 , 105 , 110 , 115 , \n",
      "\n",
      "### DISK PART 3\n",
      "Processing files 0 thru 19 in groups of 5...\n",
      "0 , 5 , 10 , 15 , \n",
      "Processing files 20 thru 39 in groups of 5...\n",
      "20 , 25 , 30 , 35 , \n",
      "Processing files 40 thru 59 in groups of 5...\n",
      "40 , 45 , 50 , 55 , \n",
      "Processing files 60 thru 79 in groups of 5...\n",
      "60 , 65 , 70 , 75 , \n",
      "Processing files 80 thru 99 in groups of 5...\n",
      "80 , 85 , 90 , 95 , \n",
      "Processing files 100 thru 119 in groups of 5...\n",
      "100 , 105 , 110 , 115 , \n",
      "\n",
      "### DISK PART 4\n",
      "Processing files 0 thru 19 in groups of 5...\n",
      "0 , 5 , 10 , 15 , \n",
      "Processing files 20 thru 39 in groups of 5...\n",
      "20 , 25 , 30 , 35 , \n",
      "Processing files 40 thru 59 in groups of 5...\n",
      "40 , 45 , 50 , 55 , \n",
      "Processing files 60 thru 79 in groups of 5...\n",
      "60 , 65 , 70 , 75 , \n",
      "Processing files 80 thru 99 in groups of 5...\n",
      "80 , 85 , 90 , 95 , \n",
      "Processing files 100 thru 119 in groups of 5...\n",
      "100 , 105 , 110 , 115 , \n",
      "CPU times: user 1min 26s, sys: 45.2 s, total: 2min 12s\n",
      "Wall time: 2min 13s\n"
     ]
    }
   ],
   "source": [
    "%%time\n",
    "# USE SMALLEST DISK_PIECES POSSIBLE WITHOUT MEMORY ERROR\n",
    "DISK_PIECES = 4\n",
    "SIZE = 1.86e6/DISK_PIECES\n",
    "\n",
    "# COMPUTE IN PARTS FOR MEMORY MANGEMENT\n",
    "for PART in range(DISK_PIECES):\n",
    "    print()\n",
    "    print('### DISK PART',PART+1)\n",
    "    \n",
    "    # MERGE IS FASTEST PROCESSING CHUNKS WITHIN CHUNKS\n",
    "    # => OUTER CHUNKS\n",
    "    for j in range(6):\n",
    "        a = j*CHUNK\n",
    "        b = min( (j+1)*CHUNK, len(files) )\n",
    "        print(f'Processing files {a} thru {b-1} in groups of {READ_CT}...')\n",
    "        \n",
    "        # => INNER CHUNKS\n",
    "        for k in range(a,b,READ_CT):\n",
    "            # READ FILE\n",
    "            df = [read_file(files[k])]\n",
    "            for i in range(1,READ_CT): \n",
    "                if k+i<b: df.append( read_file(files[k+i]) )\n",
    "            df = cudf.concat(df,ignore_index=True,axis=0)\n",
    "            df = df.sort_values(['session','ts'],ascending=[True,False])\n",
    "            \n",
    "            # USE TAIL OF SESSION\n",
    "            df = df.reset_index(drop=True)\n",
    "            df['n'] = df.groupby('session').cumcount()\n",
    "            df = df.loc[df.n<30].drop('n',axis=1)\n",
    "            \n",
    "            # CREATE PAIRS\n",
    "            df = df.merge(df,on='session')\n",
    "            df = df.loc[ ((df.ts_x - df.ts_y).abs()< 24 * 60 * 60) & (df.aid_x != df.aid_y) ]\n",
    "            \n",
    "            # MEMORY MANAGEMENT COMPUTE IN PARTS\n",
    "            df = df.loc[(df.aid_x >= PART*SIZE)&(df.aid_x < (PART+1)*SIZE)]\n",
    "            \n",
    "            # ASSIGN WEIGHTS\n",
    "            df = df[['session', 'aid_x', 'aid_y','ts_x']].drop_duplicates(['session', 'aid_x', 'aid_y'])\n",
    "            df['wgt'] = 1 + 3*(df.ts_x - 1659304800)/(1662328791-1659304800)\n",
    "            # 1659304800 : minimum timestamp\n",
    "            # 1662328791 : maximum timestamp\n",
    "            df = df[['aid_x','aid_y','wgt']]\n",
    "            df.wgt = df.wgt.astype('float32')\n",
    "            df = df.groupby(['aid_x','aid_y']).wgt.sum()\n",
    "            \n",
    "            # COMBINE INNER CHUNKS\n",
    "            if k==a: tmp2 = df\n",
    "            else: tmp2 = tmp2.add(df, fill_value=0)\n",
    "            print(k,', ',end='')\n",
    "        print()\n",
    "        \n",
    "        # COMBINE OUTER CHUNKS\n",
    "        if a==0: tmp = tmp2\n",
    "        else: tmp = tmp.add(tmp2, fill_value=0)\n",
    "        del tmp2, df\n",
    "        gc.collect()\n",
    "\n",
    "    # CONVERT MATRIX TO DICTIONARY\n",
    "    tmp = tmp.reset_index()\n",
    "    tmp = tmp.sort_values(['aid_x','wgt'],ascending=[True,False])\n",
    "    \n",
    "    # SAVE TOP 40\n",
    "    tmp = tmp.reset_index(drop=True)\n",
    "    tmp['n'] = tmp.groupby('aid_x').aid_y.cumcount()\n",
    "    tmp = tmp.loc[tmp.n<clicks_th].drop('n',axis=1)\n",
    "    \n",
    "    # SAVE PART TO DISK (convert to pandas first uses less memory)\n",
    "    tmp.to_pandas().to_parquet(f'top_60_clicks_fortrain_v{VER}_{PART}.pqt')"
   ]
  },
  {
   "cell_type": "code",
   "execution_count": null,
   "id": "fd605974",
   "metadata": {
    "papermill": {
     "duration": 0.019321,
     "end_time": "2023-01-21T06:45:26.929074",
     "exception": false,
     "start_time": "2023-01-21T06:45:26.909753",
     "status": "completed"
    },
    "tags": []
   },
   "outputs": [],
   "source": []
  },
  {
   "cell_type": "code",
   "execution_count": null,
   "id": "239636f5",
   "metadata": {
    "papermill": {
     "duration": 0.015401,
     "end_time": "2023-01-21T06:45:26.960089",
     "exception": false,
     "start_time": "2023-01-21T06:45:26.944688",
     "status": "completed"
    },
    "tags": []
   },
   "outputs": [],
   "source": []
  },
  {
   "cell_type": "code",
   "execution_count": null,
   "id": "49962727",
   "metadata": {
    "papermill": {
     "duration": 0.015548,
     "end_time": "2023-01-21T06:45:26.991413",
     "exception": false,
     "start_time": "2023-01-21T06:45:26.975865",
     "status": "completed"
    },
    "tags": []
   },
   "outputs": [],
   "source": []
  }
 ],
 "metadata": {
  "kernelspec": {
   "display_name": "Python 3",
   "language": "python",
   "name": "python3"
  },
  "language_info": {
   "codemirror_mode": {
    "name": "ipython",
    "version": 3
   },
   "file_extension": ".py",
   "mimetype": "text/x-python",
   "name": "python",
   "nbconvert_exporter": "python",
   "pygments_lexer": "ipython3",
   "version": "3.7.12"
  },
  "papermill": {
   "default_parameters": {},
   "duration": 345.268565,
   "end_time": "2023-01-21T06:45:28.229808",
   "environment_variables": {},
   "exception": null,
   "input_path": "__notebook__.ipynb",
   "output_path": "__notebook__.ipynb",
   "parameters": {},
   "start_time": "2023-01-21T06:39:42.961243",
   "version": "2.3.4"
  }
 },
 "nbformat": 4,
 "nbformat_minor": 5
}
